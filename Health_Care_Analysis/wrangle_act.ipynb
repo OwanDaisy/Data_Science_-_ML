{
 "cells": [
  {
   "cell_type": "markdown",
   "id": "cc0920bb",
   "metadata": {},
   "source": [
    "# Health Data Exploration\n",
    "\n",
    "## Table of Contents\n",
    "\n",
    "   [I. Data Gathering](#one) <br>\n",
    "   \n",
    "   [II. Data Assessment](#two) <br>\n",
    "   \n",
    "   [III. Data Cleaning](#three) <br>\n",
    "   \n",
    "   [V. Exploratory Data Analysis and Data Visualization](#four) <br>\n",
    "   \n",
    "   [V.Model Predictions and Accuracy Evaluation](#five) <br>\n",
    "   \n",
    "### Pleminary Wrangling\n",
    "This document explores a data set containing 10000 Patients with 15 variables on each patient's health, such as Blood Type, Medical Condition, Date of Admission and many others. The goal of this project is to gain insight into our data in order to carry out informed decision making. Alongside, various models will be tested, with their accuracies compared in order to be able to predict a patient's test result based on parameters like Age, Gender, Blood Type, Medical Condition, Billing Amount, Admission Type. Such a model will enable quicker decision making in hospitals and allow for time and cost management <br>\n",
    "\n",
    "\n",
    "#### Author : Owan Ayuk Daisy A."
   ]
  },
  {
   "cell_type": "markdown",
   "id": "499d164e",
   "metadata": {},
   "source": [
    "## <a id=\"one\" >Data Gathering</a>"
   ]
  },
  {
   "cell_type": "code",
   "execution_count": 230,
   "id": "55a075be",
   "metadata": {},
   "outputs": [],
   "source": [
    "# import all packages \n",
    "import numpy as np\n",
    "import pandas as pd\n",
    "import matplotlib.pyplot as plt\n",
    "import seaborn as sb\n",
    "\n",
    "## %matplotlib inline\n"
   ]
  },
  {
   "cell_type": "code",
   "execution_count": 231,
   "id": "dac9b67a",
   "metadata": {},
   "outputs": [],
   "source": [
    "# load in the dataset into a pandas dataframe, print statistics\n",
    "Health = pd.read_csv('healthcare_dataset.csv')"
   ]
  },
  {
   "cell_type": "markdown",
   "id": "015d0c6c",
   "metadata": {},
   "source": [
    "## <a id=\"two\">Data Assessment</a>"
   ]
  },
  {
   "cell_type": "markdown",
   "id": "b367dfd1",
   "metadata": {},
   "source": [
    "### a) Visual Assessment"
   ]
  },
  {
   "cell_type": "code",
   "execution_count": 232,
   "id": "3cbda55f",
   "metadata": {},
   "outputs": [
    {
     "name": "stdout",
     "output_type": "stream",
     "text": [
      "(10000, 15)\n",
      "Name                   object\n",
      "Age                     int64\n",
      "Gender                 object\n",
      "Blood Type             object\n",
      "Medical Condition      object\n",
      "Date of Admission      object\n",
      "Doctor                 object\n",
      "Hospital               object\n",
      "Insurance Provider     object\n",
      "Billing Amount        float64\n",
      "Room Number             int64\n",
      "Admission Type         object\n",
      "Discharge Date         object\n",
      "Medication             object\n",
      "Test Results           object\n",
      "dtype: object\n"
     ]
    }
   ],
   "source": [
    "# high-level overview of data shape and composition\n",
    "print(Health.shape)\n",
    "print(Health.dtypes)"
   ]
  },
  {
   "cell_type": "code",
   "execution_count": 233,
   "id": "e4eed9db",
   "metadata": {},
   "outputs": [
    {
     "data": {
      "text/html": [
       "<div>\n",
       "<style scoped>\n",
       "    .dataframe tbody tr th:only-of-type {\n",
       "        vertical-align: middle;\n",
       "    }\n",
       "\n",
       "    .dataframe tbody tr th {\n",
       "        vertical-align: top;\n",
       "    }\n",
       "\n",
       "    .dataframe thead th {\n",
       "        text-align: right;\n",
       "    }\n",
       "</style>\n",
       "<table border=\"1\" class=\"dataframe\">\n",
       "  <thead>\n",
       "    <tr style=\"text-align: right;\">\n",
       "      <th></th>\n",
       "      <th>Name</th>\n",
       "      <th>Age</th>\n",
       "      <th>Gender</th>\n",
       "      <th>Blood Type</th>\n",
       "      <th>Medical Condition</th>\n",
       "      <th>Date of Admission</th>\n",
       "      <th>Doctor</th>\n",
       "      <th>Hospital</th>\n",
       "      <th>Insurance Provider</th>\n",
       "      <th>Billing Amount</th>\n",
       "      <th>Room Number</th>\n",
       "      <th>Admission Type</th>\n",
       "      <th>Discharge Date</th>\n",
       "      <th>Medication</th>\n",
       "      <th>Test Results</th>\n",
       "    </tr>\n",
       "  </thead>\n",
       "  <tbody>\n",
       "    <tr>\n",
       "      <th>0</th>\n",
       "      <td>Tiffany Ramirez</td>\n",
       "      <td>81</td>\n",
       "      <td>Female</td>\n",
       "      <td>O-</td>\n",
       "      <td>Diabetes</td>\n",
       "      <td>2022-11-17</td>\n",
       "      <td>Patrick Parker</td>\n",
       "      <td>Wallace-Hamilton</td>\n",
       "      <td>Medicare</td>\n",
       "      <td>37490.983364</td>\n",
       "      <td>146</td>\n",
       "      <td>Elective</td>\n",
       "      <td>2022-12-01</td>\n",
       "      <td>Aspirin</td>\n",
       "      <td>Inconclusive</td>\n",
       "    </tr>\n",
       "    <tr>\n",
       "      <th>1</th>\n",
       "      <td>Ruben Burns</td>\n",
       "      <td>35</td>\n",
       "      <td>Male</td>\n",
       "      <td>O+</td>\n",
       "      <td>Asthma</td>\n",
       "      <td>2023-06-01</td>\n",
       "      <td>Diane Jackson</td>\n",
       "      <td>Burke, Griffin and Cooper</td>\n",
       "      <td>UnitedHealthcare</td>\n",
       "      <td>47304.064845</td>\n",
       "      <td>404</td>\n",
       "      <td>Emergency</td>\n",
       "      <td>2023-06-15</td>\n",
       "      <td>Lipitor</td>\n",
       "      <td>Normal</td>\n",
       "    </tr>\n",
       "    <tr>\n",
       "      <th>2</th>\n",
       "      <td>Chad Byrd</td>\n",
       "      <td>61</td>\n",
       "      <td>Male</td>\n",
       "      <td>B-</td>\n",
       "      <td>Obesity</td>\n",
       "      <td>2019-01-09</td>\n",
       "      <td>Paul Baker</td>\n",
       "      <td>Walton LLC</td>\n",
       "      <td>Medicare</td>\n",
       "      <td>36874.896997</td>\n",
       "      <td>292</td>\n",
       "      <td>Emergency</td>\n",
       "      <td>2019-02-08</td>\n",
       "      <td>Lipitor</td>\n",
       "      <td>Normal</td>\n",
       "    </tr>\n",
       "    <tr>\n",
       "      <th>3</th>\n",
       "      <td>Antonio Frederick</td>\n",
       "      <td>49</td>\n",
       "      <td>Male</td>\n",
       "      <td>B-</td>\n",
       "      <td>Asthma</td>\n",
       "      <td>2020-05-02</td>\n",
       "      <td>Brian Chandler</td>\n",
       "      <td>Garcia Ltd</td>\n",
       "      <td>Medicare</td>\n",
       "      <td>23303.322092</td>\n",
       "      <td>480</td>\n",
       "      <td>Urgent</td>\n",
       "      <td>2020-05-03</td>\n",
       "      <td>Penicillin</td>\n",
       "      <td>Abnormal</td>\n",
       "    </tr>\n",
       "    <tr>\n",
       "      <th>4</th>\n",
       "      <td>Mrs. Brandy Flowers</td>\n",
       "      <td>51</td>\n",
       "      <td>Male</td>\n",
       "      <td>O-</td>\n",
       "      <td>Arthritis</td>\n",
       "      <td>2021-07-09</td>\n",
       "      <td>Dustin Griffin</td>\n",
       "      <td>Jones, Brown and Murray</td>\n",
       "      <td>UnitedHealthcare</td>\n",
       "      <td>18086.344184</td>\n",
       "      <td>477</td>\n",
       "      <td>Urgent</td>\n",
       "      <td>2021-08-02</td>\n",
       "      <td>Paracetamol</td>\n",
       "      <td>Normal</td>\n",
       "    </tr>\n",
       "    <tr>\n",
       "      <th>5</th>\n",
       "      <td>Patrick Parker</td>\n",
       "      <td>41</td>\n",
       "      <td>Male</td>\n",
       "      <td>AB+</td>\n",
       "      <td>Arthritis</td>\n",
       "      <td>2020-08-20</td>\n",
       "      <td>Robin Green</td>\n",
       "      <td>Boyd PLC</td>\n",
       "      <td>Aetna</td>\n",
       "      <td>22522.363385</td>\n",
       "      <td>180</td>\n",
       "      <td>Urgent</td>\n",
       "      <td>2020-08-23</td>\n",
       "      <td>Aspirin</td>\n",
       "      <td>Abnormal</td>\n",
       "    </tr>\n",
       "    <tr>\n",
       "      <th>6</th>\n",
       "      <td>Charles Horton</td>\n",
       "      <td>82</td>\n",
       "      <td>Male</td>\n",
       "      <td>AB+</td>\n",
       "      <td>Hypertension</td>\n",
       "      <td>2021-03-22</td>\n",
       "      <td>Patricia Bishop</td>\n",
       "      <td>Wheeler, Bryant and Johns</td>\n",
       "      <td>Cigna</td>\n",
       "      <td>39593.435761</td>\n",
       "      <td>161</td>\n",
       "      <td>Urgent</td>\n",
       "      <td>2021-04-15</td>\n",
       "      <td>Lipitor</td>\n",
       "      <td>Abnormal</td>\n",
       "    </tr>\n",
       "    <tr>\n",
       "      <th>7</th>\n",
       "      <td>Patty Norman</td>\n",
       "      <td>55</td>\n",
       "      <td>Female</td>\n",
       "      <td>O-</td>\n",
       "      <td>Arthritis</td>\n",
       "      <td>2019-05-16</td>\n",
       "      <td>Brian Kennedy</td>\n",
       "      <td>Brown Inc</td>\n",
       "      <td>Blue Cross</td>\n",
       "      <td>13546.817249</td>\n",
       "      <td>384</td>\n",
       "      <td>Elective</td>\n",
       "      <td>2019-06-02</td>\n",
       "      <td>Aspirin</td>\n",
       "      <td>Normal</td>\n",
       "    </tr>\n",
       "    <tr>\n",
       "      <th>8</th>\n",
       "      <td>Ryan Hayes</td>\n",
       "      <td>33</td>\n",
       "      <td>Male</td>\n",
       "      <td>A+</td>\n",
       "      <td>Diabetes</td>\n",
       "      <td>2020-12-17</td>\n",
       "      <td>Kristin Dunn</td>\n",
       "      <td>Smith, Edwards and Obrien</td>\n",
       "      <td>Aetna</td>\n",
       "      <td>24903.037270</td>\n",
       "      <td>215</td>\n",
       "      <td>Elective</td>\n",
       "      <td>2020-12-22</td>\n",
       "      <td>Aspirin</td>\n",
       "      <td>Abnormal</td>\n",
       "    </tr>\n",
       "    <tr>\n",
       "      <th>9</th>\n",
       "      <td>Sharon Perez</td>\n",
       "      <td>39</td>\n",
       "      <td>Female</td>\n",
       "      <td>O-</td>\n",
       "      <td>Asthma</td>\n",
       "      <td>2022-12-15</td>\n",
       "      <td>Jessica Bailey</td>\n",
       "      <td>Brown-Golden</td>\n",
       "      <td>Blue Cross</td>\n",
       "      <td>22788.236026</td>\n",
       "      <td>310</td>\n",
       "      <td>Urgent</td>\n",
       "      <td>2022-12-16</td>\n",
       "      <td>Aspirin</td>\n",
       "      <td>Normal</td>\n",
       "    </tr>\n",
       "  </tbody>\n",
       "</table>\n",
       "</div>"
      ],
      "text/plain": [
       "                  Name  Age  Gender Blood Type Medical Condition  \\\n",
       "0      Tiffany Ramirez   81  Female         O-          Diabetes   \n",
       "1          Ruben Burns   35    Male         O+            Asthma   \n",
       "2            Chad Byrd   61    Male         B-           Obesity   \n",
       "3    Antonio Frederick   49    Male         B-            Asthma   \n",
       "4  Mrs. Brandy Flowers   51    Male         O-         Arthritis   \n",
       "5       Patrick Parker   41    Male        AB+         Arthritis   \n",
       "6       Charles Horton   82    Male        AB+      Hypertension   \n",
       "7         Patty Norman   55  Female         O-         Arthritis   \n",
       "8           Ryan Hayes   33    Male         A+          Diabetes   \n",
       "9         Sharon Perez   39  Female         O-            Asthma   \n",
       "\n",
       "  Date of Admission           Doctor                   Hospital  \\\n",
       "0        2022-11-17   Patrick Parker           Wallace-Hamilton   \n",
       "1        2023-06-01    Diane Jackson  Burke, Griffin and Cooper   \n",
       "2        2019-01-09       Paul Baker                 Walton LLC   \n",
       "3        2020-05-02   Brian Chandler                 Garcia Ltd   \n",
       "4        2021-07-09   Dustin Griffin    Jones, Brown and Murray   \n",
       "5        2020-08-20      Robin Green                   Boyd PLC   \n",
       "6        2021-03-22  Patricia Bishop  Wheeler, Bryant and Johns   \n",
       "7        2019-05-16    Brian Kennedy                  Brown Inc   \n",
       "8        2020-12-17     Kristin Dunn  Smith, Edwards and Obrien   \n",
       "9        2022-12-15   Jessica Bailey               Brown-Golden   \n",
       "\n",
       "  Insurance Provider  Billing Amount  Room Number Admission Type  \\\n",
       "0           Medicare    37490.983364          146       Elective   \n",
       "1   UnitedHealthcare    47304.064845          404      Emergency   \n",
       "2           Medicare    36874.896997          292      Emergency   \n",
       "3           Medicare    23303.322092          480         Urgent   \n",
       "4   UnitedHealthcare    18086.344184          477         Urgent   \n",
       "5              Aetna    22522.363385          180         Urgent   \n",
       "6              Cigna    39593.435761          161         Urgent   \n",
       "7         Blue Cross    13546.817249          384       Elective   \n",
       "8              Aetna    24903.037270          215       Elective   \n",
       "9         Blue Cross    22788.236026          310         Urgent   \n",
       "\n",
       "  Discharge Date   Medication  Test Results  \n",
       "0     2022-12-01      Aspirin  Inconclusive  \n",
       "1     2023-06-15      Lipitor        Normal  \n",
       "2     2019-02-08      Lipitor        Normal  \n",
       "3     2020-05-03   Penicillin      Abnormal  \n",
       "4     2021-08-02  Paracetamol        Normal  \n",
       "5     2020-08-23      Aspirin      Abnormal  \n",
       "6     2021-04-15      Lipitor      Abnormal  \n",
       "7     2019-06-02      Aspirin        Normal  \n",
       "8     2020-12-22      Aspirin      Abnormal  \n",
       "9     2022-12-16      Aspirin        Normal  "
      ]
     },
     "execution_count": 233,
     "metadata": {},
     "output_type": "execute_result"
    }
   ],
   "source": [
    "Health.head(10)"
   ]
  },
  {
   "cell_type": "markdown",
   "id": "06917536",
   "metadata": {},
   "source": [
    "###  Tidiness issues\n",
    "\n",
    "We begin by addressing tidiness issues. These issues pertain to the structure of data. These structural problems generally prevent easy analysis. Upon visual assessment of our data we could observe it is tidy enough for further analysis and following the norms of tidiness, that is:\n",
    "- Each variable is a column; each column is a variable. \n",
    "- Each observation is a row; each row is an observation. \n",
    "- Each value is a cell; each cell is a single value."
   ]
  },
  {
   "cell_type": "markdown",
   "id": "91edc8a2",
   "metadata": {},
   "source": [
    "### b) Programmatic Assessment"
   ]
  },
  {
   "cell_type": "markdown",
   "id": "13468e58",
   "metadata": {},
   "source": [
    "- Crosschecking for incorrect/inconsistent data types/formats"
   ]
  },
  {
   "cell_type": "code",
   "execution_count": 234,
   "id": "c1fff11d",
   "metadata": {},
   "outputs": [
    {
     "name": "stdout",
     "output_type": "stream",
     "text": [
      "<class 'pandas.core.frame.DataFrame'>\n",
      "RangeIndex: 10000 entries, 0 to 9999\n",
      "Data columns (total 15 columns):\n",
      " #   Column              Non-Null Count  Dtype  \n",
      "---  ------              --------------  -----  \n",
      " 0   Name                10000 non-null  object \n",
      " 1   Age                 10000 non-null  int64  \n",
      " 2   Gender              10000 non-null  object \n",
      " 3   Blood Type          10000 non-null  object \n",
      " 4   Medical Condition   10000 non-null  object \n",
      " 5   Date of Admission   10000 non-null  object \n",
      " 6   Doctor              10000 non-null  object \n",
      " 7   Hospital            10000 non-null  object \n",
      " 8   Insurance Provider  10000 non-null  object \n",
      " 9   Billing Amount      10000 non-null  float64\n",
      " 10  Room Number         10000 non-null  int64  \n",
      " 11  Admission Type      10000 non-null  object \n",
      " 12  Discharge Date      10000 non-null  object \n",
      " 13  Medication          10000 non-null  object \n",
      " 14  Test Results        10000 non-null  object \n",
      "dtypes: float64(1), int64(2), object(12)\n",
      "memory usage: 1.1+ MB\n"
     ]
    }
   ],
   "source": [
    "Health.info()"
   ]
  },
  {
   "cell_type": "markdown",
   "id": "b2f9aca5",
   "metadata": {},
   "source": [
    "Upon marching each variable to its content/datatype stored, we can observe that the Discharge and Admission Date variables have  incorrect datatype and will require cleaning"
   ]
  },
  {
   "cell_type": "markdown",
   "id": "d0f3cecd",
   "metadata": {},
   "source": [
    "- Crosschecking for duplicate enteries/records"
   ]
  },
  {
   "cell_type": "code",
   "execution_count": 235,
   "id": "1e9cb2ff",
   "metadata": {},
   "outputs": [
    {
     "data": {
      "text/plain": [
       "0       False\n",
       "1       False\n",
       "2       False\n",
       "3       False\n",
       "4       False\n",
       "        ...  \n",
       "9995    False\n",
       "9996    False\n",
       "9997    False\n",
       "9998    False\n",
       "9999    False\n",
       "Length: 10000, dtype: bool"
      ]
     },
     "execution_count": 235,
     "metadata": {},
     "output_type": "execute_result"
    }
   ],
   "source": [
    "Health.duplicated()"
   ]
  },
  {
   "cell_type": "code",
   "execution_count": 236,
   "id": "4f307fc8",
   "metadata": {},
   "outputs": [
    {
     "data": {
      "text/plain": [
       "0"
      ]
     },
     "execution_count": 236,
     "metadata": {},
     "output_type": "execute_result"
    }
   ],
   "source": [
    "sum(Health.duplicated())"
   ]
  },
  {
   "cell_type": "markdown",
   "id": "ce890d6f",
   "metadata": {},
   "source": [
    "No duplicate enteries as well....our data is free of duplicate records for a paticular patient"
   ]
  },
  {
   "cell_type": "markdown",
   "id": "043368a3",
   "metadata": {},
   "source": [
    "- crosschecking for null values/enteries"
   ]
  },
  {
   "cell_type": "markdown",
   "id": "0350d830",
   "metadata": {},
   "source": [
    "From our result after running Health.info(), we can also observe the absence of null enteries"
   ]
  },
  {
   "cell_type": "code",
   "execution_count": 237,
   "id": "d5c5b59d",
   "metadata": {},
   "outputs": [
    {
     "data": {
      "text/html": [
       "<div>\n",
       "<style scoped>\n",
       "    .dataframe tbody tr th:only-of-type {\n",
       "        vertical-align: middle;\n",
       "    }\n",
       "\n",
       "    .dataframe tbody tr th {\n",
       "        vertical-align: top;\n",
       "    }\n",
       "\n",
       "    .dataframe thead th {\n",
       "        text-align: right;\n",
       "    }\n",
       "</style>\n",
       "<table border=\"1\" class=\"dataframe\">\n",
       "  <thead>\n",
       "    <tr style=\"text-align: right;\">\n",
       "      <th></th>\n",
       "      <th>Age</th>\n",
       "      <th>Billing Amount</th>\n",
       "      <th>Room Number</th>\n",
       "    </tr>\n",
       "  </thead>\n",
       "  <tbody>\n",
       "    <tr>\n",
       "      <th>count</th>\n",
       "      <td>10000.000000</td>\n",
       "      <td>10000.000000</td>\n",
       "      <td>10000.000000</td>\n",
       "    </tr>\n",
       "    <tr>\n",
       "      <th>mean</th>\n",
       "      <td>51.452200</td>\n",
       "      <td>25516.806778</td>\n",
       "      <td>300.082000</td>\n",
       "    </tr>\n",
       "    <tr>\n",
       "      <th>std</th>\n",
       "      <td>19.588974</td>\n",
       "      <td>14067.292709</td>\n",
       "      <td>115.806027</td>\n",
       "    </tr>\n",
       "    <tr>\n",
       "      <th>min</th>\n",
       "      <td>18.000000</td>\n",
       "      <td>1000.180837</td>\n",
       "      <td>101.000000</td>\n",
       "    </tr>\n",
       "    <tr>\n",
       "      <th>25%</th>\n",
       "      <td>35.000000</td>\n",
       "      <td>13506.523967</td>\n",
       "      <td>199.000000</td>\n",
       "    </tr>\n",
       "    <tr>\n",
       "      <th>50%</th>\n",
       "      <td>52.000000</td>\n",
       "      <td>25258.112566</td>\n",
       "      <td>299.000000</td>\n",
       "    </tr>\n",
       "    <tr>\n",
       "      <th>75%</th>\n",
       "      <td>68.000000</td>\n",
       "      <td>37733.913727</td>\n",
       "      <td>400.000000</td>\n",
       "    </tr>\n",
       "    <tr>\n",
       "      <th>max</th>\n",
       "      <td>85.000000</td>\n",
       "      <td>49995.902283</td>\n",
       "      <td>500.000000</td>\n",
       "    </tr>\n",
       "  </tbody>\n",
       "</table>\n",
       "</div>"
      ],
      "text/plain": [
       "                Age  Billing Amount   Room Number\n",
       "count  10000.000000    10000.000000  10000.000000\n",
       "mean      51.452200    25516.806778    300.082000\n",
       "std       19.588974    14067.292709    115.806027\n",
       "min       18.000000     1000.180837    101.000000\n",
       "25%       35.000000    13506.523967    199.000000\n",
       "50%       52.000000    25258.112566    299.000000\n",
       "75%       68.000000    37733.913727    400.000000\n",
       "max       85.000000    49995.902283    500.000000"
      ]
     },
     "execution_count": 237,
     "metadata": {},
     "output_type": "execute_result"
    }
   ],
   "source": [
    "#crosschecking statistical information related to our data for data inconsistency and inaccuracy\n",
    "Health.describe()"
   ]
  },
  {
   "cell_type": "markdown",
   "id": "c2d6590b",
   "metadata": {},
   "source": [
    "No abnormalities observed as pertaining to the data"
   ]
  },
  {
   "cell_type": "markdown",
   "id": "a12b9aa0",
   "metadata": {},
   "source": [
    "### Addressing Quality Issues\n",
    " In this phase, we proceed to address data quality issues. Essentially, data quality relates to its accuracy, completeness, consistency, and validity. In our analysis, we aim to address issues such as : Duplicate data,\n",
    "Inaccurate data,\n",
    "Inconsistent formats,\n",
    "Incomplete data,\n",
    "Hidden data,\n",
    "Data downtime,\n",
    "Human error,\n",
    "Irrelevant data,\n",
    "Outdated data,\n",
    "Missing values,\n",
    "Unstructured data,\n",
    "Poor data accessibility\n",
    "<br>\n",
    "\n",
    "Upon carrying out our programmatic analysis, we observed the date fields to not have a correct data type. Saving a date related column with an object data type rather than a datetime datatype will not permit calculations relating to time on that column so we have to address that issue "
   ]
  },
  {
   "cell_type": "markdown",
   "id": "cc8e7eec",
   "metadata": {},
   "source": [
    "## <a id=\"three\">Data Cleaning</a>\n",
    "To clean this issue we will use the Define-Code-Test methodology\n",
    "\n",
    "#### Define\n",
    "Incorrect data types for two columns : Date of admission and Discharge Date\n",
    "\n",
    "#### Code"
   ]
  },
  {
   "cell_type": "code",
   "execution_count": 238,
   "id": "0cab9800",
   "metadata": {},
   "outputs": [],
   "source": [
    "# convert the two 'Date' columns to datetime format\n",
    "Health['Date of Admission']= pd.to_datetime(Health['Date of Admission'])\n",
    "Health['Discharge Date']= pd.to_datetime(Health['Discharge Date'])"
   ]
  },
  {
   "cell_type": "markdown",
   "id": "46a419ce",
   "metadata": {},
   "source": [
    "#### Test"
   ]
  },
  {
   "cell_type": "code",
   "execution_count": 239,
   "id": "fa83c7f8",
   "metadata": {},
   "outputs": [
    {
     "name": "stdout",
     "output_type": "stream",
     "text": [
      "<class 'pandas.core.frame.DataFrame'>\n",
      "RangeIndex: 10000 entries, 0 to 9999\n",
      "Data columns (total 15 columns):\n",
      " #   Column              Non-Null Count  Dtype         \n",
      "---  ------              --------------  -----         \n",
      " 0   Name                10000 non-null  object        \n",
      " 1   Age                 10000 non-null  int64         \n",
      " 2   Gender              10000 non-null  object        \n",
      " 3   Blood Type          10000 non-null  object        \n",
      " 4   Medical Condition   10000 non-null  object        \n",
      " 5   Date of Admission   10000 non-null  datetime64[ns]\n",
      " 6   Doctor              10000 non-null  object        \n",
      " 7   Hospital            10000 non-null  object        \n",
      " 8   Insurance Provider  10000 non-null  object        \n",
      " 9   Billing Amount      10000 non-null  float64       \n",
      " 10  Room Number         10000 non-null  int64         \n",
      " 11  Admission Type      10000 non-null  object        \n",
      " 12  Discharge Date      10000 non-null  datetime64[ns]\n",
      " 13  Medication          10000 non-null  object        \n",
      " 14  Test Results        10000 non-null  object        \n",
      "dtypes: datetime64[ns](2), float64(1), int64(2), object(10)\n",
      "memory usage: 1.1+ MB\n"
     ]
    }
   ],
   "source": [
    "# Check the format of 'Date' column\n",
    "Health.info()"
   ]
  },
  {
   "cell_type": "markdown",
   "id": "97b2368f",
   "metadata": {},
   "source": [
    "As observed, we can see our datatypes have been readjusted"
   ]
  },
  {
   "cell_type": "markdown",
   "id": "26b5cbe0",
   "metadata": {},
   "source": [
    "##  <a id=\"four\">Exploratory Data Analysis and visualisation</a>"
   ]
  },
  {
   "cell_type": "code",
   "execution_count": 240,
   "id": "89e2e2f8",
   "metadata": {},
   "outputs": [
    {
     "data": {
      "text/html": [
       "<div>\n",
       "<style scoped>\n",
       "    .dataframe tbody tr th:only-of-type {\n",
       "        vertical-align: middle;\n",
       "    }\n",
       "\n",
       "    .dataframe tbody tr th {\n",
       "        vertical-align: top;\n",
       "    }\n",
       "\n",
       "    .dataframe thead th {\n",
       "        text-align: right;\n",
       "    }\n",
       "</style>\n",
       "<table border=\"1\" class=\"dataframe\">\n",
       "  <thead>\n",
       "    <tr style=\"text-align: right;\">\n",
       "      <th></th>\n",
       "      <th>Name</th>\n",
       "      <th>Age</th>\n",
       "      <th>Gender</th>\n",
       "      <th>Blood Type</th>\n",
       "      <th>Medical Condition</th>\n",
       "      <th>Date of Admission</th>\n",
       "      <th>Doctor</th>\n",
       "      <th>Hospital</th>\n",
       "      <th>Insurance Provider</th>\n",
       "      <th>Billing Amount</th>\n",
       "      <th>Room Number</th>\n",
       "      <th>Admission Type</th>\n",
       "      <th>Discharge Date</th>\n",
       "      <th>Medication</th>\n",
       "      <th>Test Results</th>\n",
       "    </tr>\n",
       "  </thead>\n",
       "  <tbody>\n",
       "    <tr>\n",
       "      <th>1719</th>\n",
       "      <td>Marissa Schultz</td>\n",
       "      <td>78</td>\n",
       "      <td>Female</td>\n",
       "      <td>B-</td>\n",
       "      <td>Cancer</td>\n",
       "      <td>2020-04-07</td>\n",
       "      <td>Laurie Bryan</td>\n",
       "      <td>Moss, Davidson and Ball</td>\n",
       "      <td>Cigna</td>\n",
       "      <td>39106.761780</td>\n",
       "      <td>263</td>\n",
       "      <td>Elective</td>\n",
       "      <td>2020-04-08</td>\n",
       "      <td>Aspirin</td>\n",
       "      <td>Abnormal</td>\n",
       "    </tr>\n",
       "    <tr>\n",
       "      <th>9378</th>\n",
       "      <td>Dawn Harrison</td>\n",
       "      <td>66</td>\n",
       "      <td>Female</td>\n",
       "      <td>O+</td>\n",
       "      <td>Cancer</td>\n",
       "      <td>2021-06-04</td>\n",
       "      <td>Tammy Martinez</td>\n",
       "      <td>Davis LLC</td>\n",
       "      <td>Cigna</td>\n",
       "      <td>15032.487348</td>\n",
       "      <td>432</td>\n",
       "      <td>Emergency</td>\n",
       "      <td>2021-06-25</td>\n",
       "      <td>Aspirin</td>\n",
       "      <td>Normal</td>\n",
       "    </tr>\n",
       "    <tr>\n",
       "      <th>2747</th>\n",
       "      <td>Lisa Beck</td>\n",
       "      <td>54</td>\n",
       "      <td>Female</td>\n",
       "      <td>AB-</td>\n",
       "      <td>Obesity</td>\n",
       "      <td>2022-08-31</td>\n",
       "      <td>Patrick Davis</td>\n",
       "      <td>Miller-Riggs</td>\n",
       "      <td>Cigna</td>\n",
       "      <td>20841.542773</td>\n",
       "      <td>124</td>\n",
       "      <td>Elective</td>\n",
       "      <td>2022-09-28</td>\n",
       "      <td>Aspirin</td>\n",
       "      <td>Abnormal</td>\n",
       "    </tr>\n",
       "    <tr>\n",
       "      <th>2540</th>\n",
       "      <td>Andrea Poole</td>\n",
       "      <td>85</td>\n",
       "      <td>Male</td>\n",
       "      <td>AB+</td>\n",
       "      <td>Hypertension</td>\n",
       "      <td>2019-06-29</td>\n",
       "      <td>Erik Allen</td>\n",
       "      <td>Allen, Collins and Morris</td>\n",
       "      <td>Medicare</td>\n",
       "      <td>44225.219870</td>\n",
       "      <td>158</td>\n",
       "      <td>Elective</td>\n",
       "      <td>2019-07-19</td>\n",
       "      <td>Paracetamol</td>\n",
       "      <td>Abnormal</td>\n",
       "    </tr>\n",
       "    <tr>\n",
       "      <th>7568</th>\n",
       "      <td>Eric Miles</td>\n",
       "      <td>82</td>\n",
       "      <td>Female</td>\n",
       "      <td>A+</td>\n",
       "      <td>Cancer</td>\n",
       "      <td>2019-07-09</td>\n",
       "      <td>Eric Heath</td>\n",
       "      <td>Morgan-Lopez</td>\n",
       "      <td>UnitedHealthcare</td>\n",
       "      <td>20042.115211</td>\n",
       "      <td>498</td>\n",
       "      <td>Urgent</td>\n",
       "      <td>2019-08-07</td>\n",
       "      <td>Aspirin</td>\n",
       "      <td>Inconclusive</td>\n",
       "    </tr>\n",
       "    <tr>\n",
       "      <th>6016</th>\n",
       "      <td>Margaret Brown</td>\n",
       "      <td>59</td>\n",
       "      <td>Male</td>\n",
       "      <td>B-</td>\n",
       "      <td>Obesity</td>\n",
       "      <td>2019-07-23</td>\n",
       "      <td>Sarah Hodges</td>\n",
       "      <td>Oneal Inc</td>\n",
       "      <td>Medicare</td>\n",
       "      <td>46805.421013</td>\n",
       "      <td>320</td>\n",
       "      <td>Emergency</td>\n",
       "      <td>2019-08-01</td>\n",
       "      <td>Penicillin</td>\n",
       "      <td>Inconclusive</td>\n",
       "    </tr>\n",
       "    <tr>\n",
       "      <th>2789</th>\n",
       "      <td>Zachary Turner</td>\n",
       "      <td>38</td>\n",
       "      <td>Female</td>\n",
       "      <td>AB-</td>\n",
       "      <td>Diabetes</td>\n",
       "      <td>2019-05-03</td>\n",
       "      <td>Wendy Romero</td>\n",
       "      <td>Shepherd and Sons</td>\n",
       "      <td>Cigna</td>\n",
       "      <td>26019.286316</td>\n",
       "      <td>387</td>\n",
       "      <td>Urgent</td>\n",
       "      <td>2019-06-02</td>\n",
       "      <td>Paracetamol</td>\n",
       "      <td>Normal</td>\n",
       "    </tr>\n",
       "    <tr>\n",
       "      <th>5179</th>\n",
       "      <td>Jessica Schultz</td>\n",
       "      <td>80</td>\n",
       "      <td>Female</td>\n",
       "      <td>AB+</td>\n",
       "      <td>Obesity</td>\n",
       "      <td>2022-01-31</td>\n",
       "      <td>James Henry</td>\n",
       "      <td>Moore Group</td>\n",
       "      <td>UnitedHealthcare</td>\n",
       "      <td>4355.584888</td>\n",
       "      <td>358</td>\n",
       "      <td>Urgent</td>\n",
       "      <td>2022-02-03</td>\n",
       "      <td>Aspirin</td>\n",
       "      <td>Abnormal</td>\n",
       "    </tr>\n",
       "    <tr>\n",
       "      <th>4440</th>\n",
       "      <td>Anna Glass</td>\n",
       "      <td>29</td>\n",
       "      <td>Male</td>\n",
       "      <td>B-</td>\n",
       "      <td>Arthritis</td>\n",
       "      <td>2018-12-04</td>\n",
       "      <td>Bryan Ford</td>\n",
       "      <td>Olson, Reed and Wood</td>\n",
       "      <td>Cigna</td>\n",
       "      <td>19142.010715</td>\n",
       "      <td>342</td>\n",
       "      <td>Urgent</td>\n",
       "      <td>2018-12-14</td>\n",
       "      <td>Paracetamol</td>\n",
       "      <td>Normal</td>\n",
       "    </tr>\n",
       "    <tr>\n",
       "      <th>3773</th>\n",
       "      <td>Thomas Jacobs</td>\n",
       "      <td>73</td>\n",
       "      <td>Male</td>\n",
       "      <td>A+</td>\n",
       "      <td>Asthma</td>\n",
       "      <td>2019-09-08</td>\n",
       "      <td>Tanya Jennings</td>\n",
       "      <td>Johnson-Norris</td>\n",
       "      <td>UnitedHealthcare</td>\n",
       "      <td>31484.254283</td>\n",
       "      <td>497</td>\n",
       "      <td>Urgent</td>\n",
       "      <td>2019-09-14</td>\n",
       "      <td>Lipitor</td>\n",
       "      <td>Abnormal</td>\n",
       "    </tr>\n",
       "  </tbody>\n",
       "</table>\n",
       "</div>"
      ],
      "text/plain": [
       "                 Name  Age  Gender Blood Type Medical Condition  \\\n",
       "1719  Marissa Schultz   78  Female         B-            Cancer   \n",
       "9378    Dawn Harrison   66  Female         O+            Cancer   \n",
       "2747        Lisa Beck   54  Female        AB-           Obesity   \n",
       "2540     Andrea Poole   85    Male        AB+      Hypertension   \n",
       "7568       Eric Miles   82  Female         A+            Cancer   \n",
       "6016   Margaret Brown   59    Male         B-           Obesity   \n",
       "2789   Zachary Turner   38  Female        AB-          Diabetes   \n",
       "5179  Jessica Schultz   80  Female        AB+           Obesity   \n",
       "4440       Anna Glass   29    Male         B-         Arthritis   \n",
       "3773    Thomas Jacobs   73    Male         A+            Asthma   \n",
       "\n",
       "     Date of Admission          Doctor                   Hospital  \\\n",
       "1719        2020-04-07    Laurie Bryan    Moss, Davidson and Ball   \n",
       "9378        2021-06-04  Tammy Martinez                  Davis LLC   \n",
       "2747        2022-08-31   Patrick Davis               Miller-Riggs   \n",
       "2540        2019-06-29      Erik Allen  Allen, Collins and Morris   \n",
       "7568        2019-07-09      Eric Heath               Morgan-Lopez   \n",
       "6016        2019-07-23    Sarah Hodges                  Oneal Inc   \n",
       "2789        2019-05-03    Wendy Romero          Shepherd and Sons   \n",
       "5179        2022-01-31     James Henry                Moore Group   \n",
       "4440        2018-12-04      Bryan Ford       Olson, Reed and Wood   \n",
       "3773        2019-09-08  Tanya Jennings             Johnson-Norris   \n",
       "\n",
       "     Insurance Provider  Billing Amount  Room Number Admission Type  \\\n",
       "1719              Cigna    39106.761780          263       Elective   \n",
       "9378              Cigna    15032.487348          432      Emergency   \n",
       "2747              Cigna    20841.542773          124       Elective   \n",
       "2540           Medicare    44225.219870          158       Elective   \n",
       "7568   UnitedHealthcare    20042.115211          498         Urgent   \n",
       "6016           Medicare    46805.421013          320      Emergency   \n",
       "2789              Cigna    26019.286316          387         Urgent   \n",
       "5179   UnitedHealthcare     4355.584888          358         Urgent   \n",
       "4440              Cigna    19142.010715          342         Urgent   \n",
       "3773   UnitedHealthcare    31484.254283          497         Urgent   \n",
       "\n",
       "     Discharge Date   Medication  Test Results  \n",
       "1719     2020-04-08      Aspirin      Abnormal  \n",
       "9378     2021-06-25      Aspirin        Normal  \n",
       "2747     2022-09-28      Aspirin      Abnormal  \n",
       "2540     2019-07-19  Paracetamol      Abnormal  \n",
       "7568     2019-08-07      Aspirin  Inconclusive  \n",
       "6016     2019-08-01   Penicillin  Inconclusive  \n",
       "2789     2019-06-02  Paracetamol        Normal  \n",
       "5179     2022-02-03      Aspirin      Abnormal  \n",
       "4440     2018-12-14  Paracetamol        Normal  \n",
       "3773     2019-09-14      Lipitor      Abnormal  "
      ]
     },
     "execution_count": 240,
     "metadata": {},
     "output_type": "execute_result"
    }
   ],
   "source": [
    "#reloading our data for easy access\n",
    "Health.sample(10)"
   ]
  },
  {
   "cell_type": "markdown",
   "id": "709e88f5",
   "metadata": {},
   "source": [
    "In this phase we proceed to manipulating our data for inference and discovering patterns to answer likewise uncover some relevant questions. Some of the questions our study aim to answer include:\n",
    "\n",
    "### 1. Which admission type is most encountered"
   ]
  },
  {
   "cell_type": "code",
   "execution_count": 241,
   "id": "f70a9e75",
   "metadata": {},
   "outputs": [
    {
     "data": {
      "text/plain": [
       "Urgent       3391\n",
       "Emergency    3367\n",
       "Elective     3242\n",
       "Name: Admission Type, dtype: int64"
      ]
     },
     "execution_count": 241,
     "metadata": {},
     "output_type": "execute_result"
    }
   ],
   "source": [
    "Health['Admission Type'].value_counts()"
   ]
  },
  {
   "cell_type": "markdown",
   "id": "790f6836",
   "metadata": {},
   "source": [
    "### 2. Most Visited Hospitals"
   ]
  },
  {
   "cell_type": "code",
   "execution_count": 242,
   "id": "88ba5a6e",
   "metadata": {},
   "outputs": [
    {
     "data": {
      "text/plain": [
       "8639"
      ]
     },
     "execution_count": 242,
     "metadata": {},
     "output_type": "execute_result"
    }
   ],
   "source": [
    "#first we begin by retrieving the different number of hospitals\n",
    "len(Health['Hospital'].unique())"
   ]
  },
  {
   "cell_type": "markdown",
   "id": "ee38457a",
   "metadata": {},
   "source": [
    "There are 8639 hospitals involved in our study"
   ]
  },
  {
   "cell_type": "code",
   "execution_count": 243,
   "id": "f9de781d",
   "metadata": {},
   "outputs": [],
   "source": [
    "Hospital_con = Health['Hospital'].value_counts() > 10\n"
   ]
  },
  {
   "cell_type": "code",
   "execution_count": 244,
   "id": "6c4129c8",
   "metadata": {},
   "outputs": [],
   "source": [
    "Top_Hospital = Health[Health['Hospital'].isin(Hospital_con[Hospital_con].index)]"
   ]
  },
  {
   "cell_type": "code",
   "execution_count": 245,
   "id": "72fe45cb",
   "metadata": {},
   "outputs": [
    {
     "name": "stdout",
     "output_type": "stream",
     "text": [
      "Smith PLC         19\n",
      "Smith and Sons    17\n",
      "Smith Inc         14\n",
      "Smith Ltd         14\n",
      "Johnson PLC       13\n",
      "Williams LLC      12\n",
      "Smith Group       12\n",
      "Williams Inc      12\n",
      "Thomas Group      11\n",
      "Johnson Ltd       11\n",
      "Johnson Group     11\n",
      "Name: Hospital, dtype: int64\n"
     ]
    }
   ],
   "source": [
    "print(Top_Hospital.Hospital.value_counts())"
   ]
  },
  {
   "cell_type": "markdown",
   "id": "f78f1cb7",
   "metadata": {},
   "source": [
    "Above, we can observe the most visited hospitals, with hospitals being owned by Smiths groups being among the most visited. This could be an indicator of high performance or accessibility as people will mostly prefer visiting hospitals that are easily accessible, affordable or have well qualified practitioners"
   ]
  },
  {
   "cell_type": "markdown",
   "id": "5f744c47",
   "metadata": {},
   "source": [
    "### 3. Most Trusted Insurance Provider"
   ]
  },
  {
   "cell_type": "code",
   "execution_count": 246,
   "id": "9864ee59",
   "metadata": {},
   "outputs": [
    {
     "name": "stdout",
     "output_type": "stream",
     "text": [
      "8639\n",
      "Cigna               2040\n",
      "Blue Cross          2032\n",
      "Aetna               2025\n",
      "UnitedHealthcare    1978\n",
      "Medicare            1925\n",
      "Name: Insurance Provider, dtype: int64\n"
     ]
    }
   ],
   "source": [
    "#first we begin by retrieving the different number of hospitals\n",
    "print(len(Health['Hospital'].unique()))\n",
    "\n",
    "#next we retrieve the top insurance companies\n",
    "Insurance_con = Health['Insurance Provider'].value_counts() > 10\n",
    "Top_Ins = Health[Health['Insurance Provider'].isin(Insurance_con[Insurance_con].index)]\n",
    "print(Top_Ins['Insurance Provider'].value_counts())"
   ]
  },
  {
   "cell_type": "markdown",
   "id": "4ea86cca",
   "metadata": {},
   "source": [
    "We can observe the top 5 insurance companies taken by patients"
   ]
  },
  {
   "cell_type": "markdown",
   "id": "179a64f5",
   "metadata": {},
   "source": [
    "### 4. How long is the average recovery period for patients"
   ]
  },
  {
   "cell_type": "code",
   "execution_count": 247,
   "id": "3343cf71",
   "metadata": {},
   "outputs": [],
   "source": [
    "from datetime import datetime\n",
    "\n",
    "# Calculate the number of days between the two dates\n",
    "Health['num_days'] = (Health['Discharge Date'] - Health['Date of Admission']).dt.days"
   ]
  },
  {
   "cell_type": "code",
   "execution_count": 248,
   "id": "b119c03d",
   "metadata": {},
   "outputs": [
    {
     "data": {
      "text/html": [
       "<div>\n",
       "<style scoped>\n",
       "    .dataframe tbody tr th:only-of-type {\n",
       "        vertical-align: middle;\n",
       "    }\n",
       "\n",
       "    .dataframe tbody tr th {\n",
       "        vertical-align: top;\n",
       "    }\n",
       "\n",
       "    .dataframe thead th {\n",
       "        text-align: right;\n",
       "    }\n",
       "</style>\n",
       "<table border=\"1\" class=\"dataframe\">\n",
       "  <thead>\n",
       "    <tr style=\"text-align: right;\">\n",
       "      <th></th>\n",
       "      <th>Name</th>\n",
       "      <th>Age</th>\n",
       "      <th>Gender</th>\n",
       "      <th>Blood Type</th>\n",
       "      <th>Medical Condition</th>\n",
       "      <th>Date of Admission</th>\n",
       "      <th>Doctor</th>\n",
       "      <th>Hospital</th>\n",
       "      <th>Insurance Provider</th>\n",
       "      <th>Billing Amount</th>\n",
       "      <th>Room Number</th>\n",
       "      <th>Admission Type</th>\n",
       "      <th>Discharge Date</th>\n",
       "      <th>Medication</th>\n",
       "      <th>Test Results</th>\n",
       "      <th>num_days</th>\n",
       "    </tr>\n",
       "  </thead>\n",
       "  <tbody>\n",
       "    <tr>\n",
       "      <th>0</th>\n",
       "      <td>Tiffany Ramirez</td>\n",
       "      <td>81</td>\n",
       "      <td>Female</td>\n",
       "      <td>O-</td>\n",
       "      <td>Diabetes</td>\n",
       "      <td>2022-11-17</td>\n",
       "      <td>Patrick Parker</td>\n",
       "      <td>Wallace-Hamilton</td>\n",
       "      <td>Medicare</td>\n",
       "      <td>37490.983364</td>\n",
       "      <td>146</td>\n",
       "      <td>Elective</td>\n",
       "      <td>2022-12-01</td>\n",
       "      <td>Aspirin</td>\n",
       "      <td>Inconclusive</td>\n",
       "      <td>14</td>\n",
       "    </tr>\n",
       "    <tr>\n",
       "      <th>1</th>\n",
       "      <td>Ruben Burns</td>\n",
       "      <td>35</td>\n",
       "      <td>Male</td>\n",
       "      <td>O+</td>\n",
       "      <td>Asthma</td>\n",
       "      <td>2023-06-01</td>\n",
       "      <td>Diane Jackson</td>\n",
       "      <td>Burke, Griffin and Cooper</td>\n",
       "      <td>UnitedHealthcare</td>\n",
       "      <td>47304.064845</td>\n",
       "      <td>404</td>\n",
       "      <td>Emergency</td>\n",
       "      <td>2023-06-15</td>\n",
       "      <td>Lipitor</td>\n",
       "      <td>Normal</td>\n",
       "      <td>14</td>\n",
       "    </tr>\n",
       "    <tr>\n",
       "      <th>2</th>\n",
       "      <td>Chad Byrd</td>\n",
       "      <td>61</td>\n",
       "      <td>Male</td>\n",
       "      <td>B-</td>\n",
       "      <td>Obesity</td>\n",
       "      <td>2019-01-09</td>\n",
       "      <td>Paul Baker</td>\n",
       "      <td>Walton LLC</td>\n",
       "      <td>Medicare</td>\n",
       "      <td>36874.896997</td>\n",
       "      <td>292</td>\n",
       "      <td>Emergency</td>\n",
       "      <td>2019-02-08</td>\n",
       "      <td>Lipitor</td>\n",
       "      <td>Normal</td>\n",
       "      <td>30</td>\n",
       "    </tr>\n",
       "    <tr>\n",
       "      <th>3</th>\n",
       "      <td>Antonio Frederick</td>\n",
       "      <td>49</td>\n",
       "      <td>Male</td>\n",
       "      <td>B-</td>\n",
       "      <td>Asthma</td>\n",
       "      <td>2020-05-02</td>\n",
       "      <td>Brian Chandler</td>\n",
       "      <td>Garcia Ltd</td>\n",
       "      <td>Medicare</td>\n",
       "      <td>23303.322092</td>\n",
       "      <td>480</td>\n",
       "      <td>Urgent</td>\n",
       "      <td>2020-05-03</td>\n",
       "      <td>Penicillin</td>\n",
       "      <td>Abnormal</td>\n",
       "      <td>1</td>\n",
       "    </tr>\n",
       "    <tr>\n",
       "      <th>4</th>\n",
       "      <td>Mrs. Brandy Flowers</td>\n",
       "      <td>51</td>\n",
       "      <td>Male</td>\n",
       "      <td>O-</td>\n",
       "      <td>Arthritis</td>\n",
       "      <td>2021-07-09</td>\n",
       "      <td>Dustin Griffin</td>\n",
       "      <td>Jones, Brown and Murray</td>\n",
       "      <td>UnitedHealthcare</td>\n",
       "      <td>18086.344184</td>\n",
       "      <td>477</td>\n",
       "      <td>Urgent</td>\n",
       "      <td>2021-08-02</td>\n",
       "      <td>Paracetamol</td>\n",
       "      <td>Normal</td>\n",
       "      <td>24</td>\n",
       "    </tr>\n",
       "    <tr>\n",
       "      <th>5</th>\n",
       "      <td>Patrick Parker</td>\n",
       "      <td>41</td>\n",
       "      <td>Male</td>\n",
       "      <td>AB+</td>\n",
       "      <td>Arthritis</td>\n",
       "      <td>2020-08-20</td>\n",
       "      <td>Robin Green</td>\n",
       "      <td>Boyd PLC</td>\n",
       "      <td>Aetna</td>\n",
       "      <td>22522.363385</td>\n",
       "      <td>180</td>\n",
       "      <td>Urgent</td>\n",
       "      <td>2020-08-23</td>\n",
       "      <td>Aspirin</td>\n",
       "      <td>Abnormal</td>\n",
       "      <td>3</td>\n",
       "    </tr>\n",
       "    <tr>\n",
       "      <th>6</th>\n",
       "      <td>Charles Horton</td>\n",
       "      <td>82</td>\n",
       "      <td>Male</td>\n",
       "      <td>AB+</td>\n",
       "      <td>Hypertension</td>\n",
       "      <td>2021-03-22</td>\n",
       "      <td>Patricia Bishop</td>\n",
       "      <td>Wheeler, Bryant and Johns</td>\n",
       "      <td>Cigna</td>\n",
       "      <td>39593.435761</td>\n",
       "      <td>161</td>\n",
       "      <td>Urgent</td>\n",
       "      <td>2021-04-15</td>\n",
       "      <td>Lipitor</td>\n",
       "      <td>Abnormal</td>\n",
       "      <td>24</td>\n",
       "    </tr>\n",
       "    <tr>\n",
       "      <th>7</th>\n",
       "      <td>Patty Norman</td>\n",
       "      <td>55</td>\n",
       "      <td>Female</td>\n",
       "      <td>O-</td>\n",
       "      <td>Arthritis</td>\n",
       "      <td>2019-05-16</td>\n",
       "      <td>Brian Kennedy</td>\n",
       "      <td>Brown Inc</td>\n",
       "      <td>Blue Cross</td>\n",
       "      <td>13546.817249</td>\n",
       "      <td>384</td>\n",
       "      <td>Elective</td>\n",
       "      <td>2019-06-02</td>\n",
       "      <td>Aspirin</td>\n",
       "      <td>Normal</td>\n",
       "      <td>17</td>\n",
       "    </tr>\n",
       "    <tr>\n",
       "      <th>8</th>\n",
       "      <td>Ryan Hayes</td>\n",
       "      <td>33</td>\n",
       "      <td>Male</td>\n",
       "      <td>A+</td>\n",
       "      <td>Diabetes</td>\n",
       "      <td>2020-12-17</td>\n",
       "      <td>Kristin Dunn</td>\n",
       "      <td>Smith, Edwards and Obrien</td>\n",
       "      <td>Aetna</td>\n",
       "      <td>24903.037270</td>\n",
       "      <td>215</td>\n",
       "      <td>Elective</td>\n",
       "      <td>2020-12-22</td>\n",
       "      <td>Aspirin</td>\n",
       "      <td>Abnormal</td>\n",
       "      <td>5</td>\n",
       "    </tr>\n",
       "    <tr>\n",
       "      <th>9</th>\n",
       "      <td>Sharon Perez</td>\n",
       "      <td>39</td>\n",
       "      <td>Female</td>\n",
       "      <td>O-</td>\n",
       "      <td>Asthma</td>\n",
       "      <td>2022-12-15</td>\n",
       "      <td>Jessica Bailey</td>\n",
       "      <td>Brown-Golden</td>\n",
       "      <td>Blue Cross</td>\n",
       "      <td>22788.236026</td>\n",
       "      <td>310</td>\n",
       "      <td>Urgent</td>\n",
       "      <td>2022-12-16</td>\n",
       "      <td>Aspirin</td>\n",
       "      <td>Normal</td>\n",
       "      <td>1</td>\n",
       "    </tr>\n",
       "  </tbody>\n",
       "</table>\n",
       "</div>"
      ],
      "text/plain": [
       "                  Name  Age  Gender Blood Type Medical Condition  \\\n",
       "0      Tiffany Ramirez   81  Female         O-          Diabetes   \n",
       "1          Ruben Burns   35    Male         O+            Asthma   \n",
       "2            Chad Byrd   61    Male         B-           Obesity   \n",
       "3    Antonio Frederick   49    Male         B-            Asthma   \n",
       "4  Mrs. Brandy Flowers   51    Male         O-         Arthritis   \n",
       "5       Patrick Parker   41    Male        AB+         Arthritis   \n",
       "6       Charles Horton   82    Male        AB+      Hypertension   \n",
       "7         Patty Norman   55  Female         O-         Arthritis   \n",
       "8           Ryan Hayes   33    Male         A+          Diabetes   \n",
       "9         Sharon Perez   39  Female         O-            Asthma   \n",
       "\n",
       "  Date of Admission           Doctor                   Hospital  \\\n",
       "0        2022-11-17   Patrick Parker           Wallace-Hamilton   \n",
       "1        2023-06-01    Diane Jackson  Burke, Griffin and Cooper   \n",
       "2        2019-01-09       Paul Baker                 Walton LLC   \n",
       "3        2020-05-02   Brian Chandler                 Garcia Ltd   \n",
       "4        2021-07-09   Dustin Griffin    Jones, Brown and Murray   \n",
       "5        2020-08-20      Robin Green                   Boyd PLC   \n",
       "6        2021-03-22  Patricia Bishop  Wheeler, Bryant and Johns   \n",
       "7        2019-05-16    Brian Kennedy                  Brown Inc   \n",
       "8        2020-12-17     Kristin Dunn  Smith, Edwards and Obrien   \n",
       "9        2022-12-15   Jessica Bailey               Brown-Golden   \n",
       "\n",
       "  Insurance Provider  Billing Amount  Room Number Admission Type  \\\n",
       "0           Medicare    37490.983364          146       Elective   \n",
       "1   UnitedHealthcare    47304.064845          404      Emergency   \n",
       "2           Medicare    36874.896997          292      Emergency   \n",
       "3           Medicare    23303.322092          480         Urgent   \n",
       "4   UnitedHealthcare    18086.344184          477         Urgent   \n",
       "5              Aetna    22522.363385          180         Urgent   \n",
       "6              Cigna    39593.435761          161         Urgent   \n",
       "7         Blue Cross    13546.817249          384       Elective   \n",
       "8              Aetna    24903.037270          215       Elective   \n",
       "9         Blue Cross    22788.236026          310         Urgent   \n",
       "\n",
       "  Discharge Date   Medication  Test Results  num_days  \n",
       "0     2022-12-01      Aspirin  Inconclusive        14  \n",
       "1     2023-06-15      Lipitor        Normal        14  \n",
       "2     2019-02-08      Lipitor        Normal        30  \n",
       "3     2020-05-03   Penicillin      Abnormal         1  \n",
       "4     2021-08-02  Paracetamol        Normal        24  \n",
       "5     2020-08-23      Aspirin      Abnormal         3  \n",
       "6     2021-04-15      Lipitor      Abnormal        24  \n",
       "7     2019-06-02      Aspirin        Normal        17  \n",
       "8     2020-12-22      Aspirin      Abnormal         5  \n",
       "9     2022-12-16      Aspirin        Normal         1  "
      ]
     },
     "execution_count": 248,
     "metadata": {},
     "output_type": "execute_result"
    }
   ],
   "source": [
    "Health.head(10)"
   ]
  },
  {
   "cell_type": "code",
   "execution_count": 249,
   "id": "ad78744b",
   "metadata": {},
   "outputs": [
    {
     "data": {
      "text/html": [
       "<div>\n",
       "<style scoped>\n",
       "    .dataframe tbody tr th:only-of-type {\n",
       "        vertical-align: middle;\n",
       "    }\n",
       "\n",
       "    .dataframe tbody tr th {\n",
       "        vertical-align: top;\n",
       "    }\n",
       "\n",
       "    .dataframe thead th {\n",
       "        text-align: right;\n",
       "    }\n",
       "</style>\n",
       "<table border=\"1\" class=\"dataframe\">\n",
       "  <thead>\n",
       "    <tr style=\"text-align: right;\">\n",
       "      <th></th>\n",
       "      <th>Age</th>\n",
       "      <th>Billing Amount</th>\n",
       "      <th>Room Number</th>\n",
       "      <th>num_days</th>\n",
       "    </tr>\n",
       "  </thead>\n",
       "  <tbody>\n",
       "    <tr>\n",
       "      <th>count</th>\n",
       "      <td>10000.000000</td>\n",
       "      <td>10000.000000</td>\n",
       "      <td>10000.000000</td>\n",
       "      <td>10000.000000</td>\n",
       "    </tr>\n",
       "    <tr>\n",
       "      <th>mean</th>\n",
       "      <td>51.452200</td>\n",
       "      <td>25516.806778</td>\n",
       "      <td>300.082000</td>\n",
       "      <td>15.561800</td>\n",
       "    </tr>\n",
       "    <tr>\n",
       "      <th>std</th>\n",
       "      <td>19.588974</td>\n",
       "      <td>14067.292709</td>\n",
       "      <td>115.806027</td>\n",
       "      <td>8.612038</td>\n",
       "    </tr>\n",
       "    <tr>\n",
       "      <th>min</th>\n",
       "      <td>18.000000</td>\n",
       "      <td>1000.180837</td>\n",
       "      <td>101.000000</td>\n",
       "      <td>1.000000</td>\n",
       "    </tr>\n",
       "    <tr>\n",
       "      <th>25%</th>\n",
       "      <td>35.000000</td>\n",
       "      <td>13506.523967</td>\n",
       "      <td>199.000000</td>\n",
       "      <td>8.000000</td>\n",
       "    </tr>\n",
       "    <tr>\n",
       "      <th>50%</th>\n",
       "      <td>52.000000</td>\n",
       "      <td>25258.112566</td>\n",
       "      <td>299.000000</td>\n",
       "      <td>16.000000</td>\n",
       "    </tr>\n",
       "    <tr>\n",
       "      <th>75%</th>\n",
       "      <td>68.000000</td>\n",
       "      <td>37733.913727</td>\n",
       "      <td>400.000000</td>\n",
       "      <td>23.000000</td>\n",
       "    </tr>\n",
       "    <tr>\n",
       "      <th>max</th>\n",
       "      <td>85.000000</td>\n",
       "      <td>49995.902283</td>\n",
       "      <td>500.000000</td>\n",
       "      <td>30.000000</td>\n",
       "    </tr>\n",
       "  </tbody>\n",
       "</table>\n",
       "</div>"
      ],
      "text/plain": [
       "                Age  Billing Amount   Room Number      num_days\n",
       "count  10000.000000    10000.000000  10000.000000  10000.000000\n",
       "mean      51.452200    25516.806778    300.082000     15.561800\n",
       "std       19.588974    14067.292709    115.806027      8.612038\n",
       "min       18.000000     1000.180837    101.000000      1.000000\n",
       "25%       35.000000    13506.523967    199.000000      8.000000\n",
       "50%       52.000000    25258.112566    299.000000     16.000000\n",
       "75%       68.000000    37733.913727    400.000000     23.000000\n",
       "max       85.000000    49995.902283    500.000000     30.000000"
      ]
     },
     "execution_count": 249,
     "metadata": {},
     "output_type": "execute_result"
    }
   ],
   "source": [
    "Health.describe()"
   ]
  },
  {
   "cell_type": "markdown",
   "id": "b848b5ba",
   "metadata": {},
   "source": [
    "The average recovery period is 15 days."
   ]
  },
  {
   "cell_type": "code",
   "execution_count": 250,
   "id": "a5e92b6c",
   "metadata": {},
   "outputs": [
    {
     "name": "stdout",
     "output_type": "stream",
     "text": [
      "<class 'pandas.core.frame.DataFrame'>\n",
      "RangeIndex: 10000 entries, 0 to 9999\n",
      "Data columns (total 16 columns):\n",
      " #   Column              Non-Null Count  Dtype         \n",
      "---  ------              --------------  -----         \n",
      " 0   Name                10000 non-null  object        \n",
      " 1   Age                 10000 non-null  int64         \n",
      " 2   Gender              10000 non-null  object        \n",
      " 3   Blood Type          10000 non-null  object        \n",
      " 4   Medical Condition   10000 non-null  object        \n",
      " 5   Date of Admission   10000 non-null  datetime64[ns]\n",
      " 6   Doctor              10000 non-null  object        \n",
      " 7   Hospital            10000 non-null  object        \n",
      " 8   Insurance Provider  10000 non-null  object        \n",
      " 9   Billing Amount      10000 non-null  float64       \n",
      " 10  Room Number         10000 non-null  int64         \n",
      " 11  Admission Type      10000 non-null  object        \n",
      " 12  Discharge Date      10000 non-null  datetime64[ns]\n",
      " 13  Medication          10000 non-null  object        \n",
      " 14  Test Results        10000 non-null  object        \n",
      " 15  num_days            10000 non-null  int64         \n",
      "dtypes: datetime64[ns](2), float64(1), int64(3), object(10)\n",
      "memory usage: 1.2+ MB\n"
     ]
    }
   ],
   "source": [
    "Health.info()"
   ]
  },
  {
   "cell_type": "markdown",
   "id": "c780dd1d",
   "metadata": {},
   "source": [
    "### 5. Among the best hospitals, which hospital has the best recovery period?"
   ]
  },
  {
   "cell_type": "code",
   "execution_count": 251,
   "id": "5cac2510",
   "metadata": {},
   "outputs": [],
   "source": [
    "Hospital_con = Health['Hospital'].value_counts() > 10\n"
   ]
  },
  {
   "cell_type": "code",
   "execution_count": 252,
   "id": "7b750d26",
   "metadata": {},
   "outputs": [],
   "source": [
    "Top_Hospital = Health[Health['Hospital'].isin(Hospital_con[Hospital_con].index)]"
   ]
  },
  {
   "cell_type": "code",
   "execution_count": 253,
   "id": "24a7e843",
   "metadata": {},
   "outputs": [
    {
     "data": {
      "text/html": [
       "<div>\n",
       "<style scoped>\n",
       "    .dataframe tbody tr th:only-of-type {\n",
       "        vertical-align: middle;\n",
       "    }\n",
       "\n",
       "    .dataframe tbody tr th {\n",
       "        vertical-align: top;\n",
       "    }\n",
       "\n",
       "    .dataframe thead th {\n",
       "        text-align: right;\n",
       "    }\n",
       "</style>\n",
       "<table border=\"1\" class=\"dataframe\">\n",
       "  <thead>\n",
       "    <tr style=\"text-align: right;\">\n",
       "      <th></th>\n",
       "      <th>Name</th>\n",
       "      <th>Age</th>\n",
       "      <th>Gender</th>\n",
       "      <th>Blood Type</th>\n",
       "      <th>Medical Condition</th>\n",
       "      <th>Date of Admission</th>\n",
       "      <th>Doctor</th>\n",
       "      <th>Hospital</th>\n",
       "      <th>Insurance Provider</th>\n",
       "      <th>Billing Amount</th>\n",
       "      <th>Room Number</th>\n",
       "      <th>Admission Type</th>\n",
       "      <th>Discharge Date</th>\n",
       "      <th>Medication</th>\n",
       "      <th>Test Results</th>\n",
       "      <th>num_days</th>\n",
       "    </tr>\n",
       "  </thead>\n",
       "  <tbody>\n",
       "    <tr>\n",
       "      <th>47</th>\n",
       "      <td>Jasmine Singleton</td>\n",
       "      <td>37</td>\n",
       "      <td>Male</td>\n",
       "      <td>AB-</td>\n",
       "      <td>Obesity</td>\n",
       "      <td>2019-06-26</td>\n",
       "      <td>Larry Guzman</td>\n",
       "      <td>Thomas Group</td>\n",
       "      <td>Blue Cross</td>\n",
       "      <td>34132.623000</td>\n",
       "      <td>182</td>\n",
       "      <td>Emergency</td>\n",
       "      <td>2019-07-24</td>\n",
       "      <td>Ibuprofen</td>\n",
       "      <td>Normal</td>\n",
       "      <td>28</td>\n",
       "    </tr>\n",
       "    <tr>\n",
       "      <th>266</th>\n",
       "      <td>Jamie Kelley</td>\n",
       "      <td>48</td>\n",
       "      <td>Male</td>\n",
       "      <td>O-</td>\n",
       "      <td>Asthma</td>\n",
       "      <td>2022-07-10</td>\n",
       "      <td>Samuel Lowe</td>\n",
       "      <td>Williams LLC</td>\n",
       "      <td>Aetna</td>\n",
       "      <td>42621.449647</td>\n",
       "      <td>297</td>\n",
       "      <td>Urgent</td>\n",
       "      <td>2022-07-28</td>\n",
       "      <td>Penicillin</td>\n",
       "      <td>Inconclusive</td>\n",
       "      <td>18</td>\n",
       "    </tr>\n",
       "    <tr>\n",
       "      <th>298</th>\n",
       "      <td>Cody Gonzales</td>\n",
       "      <td>30</td>\n",
       "      <td>Male</td>\n",
       "      <td>B-</td>\n",
       "      <td>Obesity</td>\n",
       "      <td>2020-03-06</td>\n",
       "      <td>Rachel Roberts</td>\n",
       "      <td>Smith Group</td>\n",
       "      <td>Blue Cross</td>\n",
       "      <td>16592.012153</td>\n",
       "      <td>223</td>\n",
       "      <td>Emergency</td>\n",
       "      <td>2020-03-22</td>\n",
       "      <td>Penicillin</td>\n",
       "      <td>Abnormal</td>\n",
       "      <td>16</td>\n",
       "    </tr>\n",
       "    <tr>\n",
       "      <th>303</th>\n",
       "      <td>Cynthia Patterson</td>\n",
       "      <td>42</td>\n",
       "      <td>Female</td>\n",
       "      <td>B-</td>\n",
       "      <td>Cancer</td>\n",
       "      <td>2020-01-02</td>\n",
       "      <td>Dr. Sean Russell</td>\n",
       "      <td>Johnson Ltd</td>\n",
       "      <td>Medicare</td>\n",
       "      <td>26419.324813</td>\n",
       "      <td>483</td>\n",
       "      <td>Emergency</td>\n",
       "      <td>2020-01-30</td>\n",
       "      <td>Ibuprofen</td>\n",
       "      <td>Inconclusive</td>\n",
       "      <td>28</td>\n",
       "    </tr>\n",
       "    <tr>\n",
       "      <th>318</th>\n",
       "      <td>Daniel Alexander</td>\n",
       "      <td>70</td>\n",
       "      <td>Male</td>\n",
       "      <td>AB-</td>\n",
       "      <td>Hypertension</td>\n",
       "      <td>2020-03-19</td>\n",
       "      <td>Jill Hughes</td>\n",
       "      <td>Smith Inc</td>\n",
       "      <td>Aetna</td>\n",
       "      <td>36496.775644</td>\n",
       "      <td>286</td>\n",
       "      <td>Elective</td>\n",
       "      <td>2020-04-05</td>\n",
       "      <td>Penicillin</td>\n",
       "      <td>Normal</td>\n",
       "      <td>17</td>\n",
       "    </tr>\n",
       "    <tr>\n",
       "      <th>...</th>\n",
       "      <td>...</td>\n",
       "      <td>...</td>\n",
       "      <td>...</td>\n",
       "      <td>...</td>\n",
       "      <td>...</td>\n",
       "      <td>...</td>\n",
       "      <td>...</td>\n",
       "      <td>...</td>\n",
       "      <td>...</td>\n",
       "      <td>...</td>\n",
       "      <td>...</td>\n",
       "      <td>...</td>\n",
       "      <td>...</td>\n",
       "      <td>...</td>\n",
       "      <td>...</td>\n",
       "      <td>...</td>\n",
       "    </tr>\n",
       "    <tr>\n",
       "      <th>9497</th>\n",
       "      <td>Glen Rowe</td>\n",
       "      <td>55</td>\n",
       "      <td>Male</td>\n",
       "      <td>A-</td>\n",
       "      <td>Cancer</td>\n",
       "      <td>2022-09-12</td>\n",
       "      <td>Ashley Gross</td>\n",
       "      <td>Smith Group</td>\n",
       "      <td>Blue Cross</td>\n",
       "      <td>12988.802893</td>\n",
       "      <td>471</td>\n",
       "      <td>Elective</td>\n",
       "      <td>2022-10-08</td>\n",
       "      <td>Ibuprofen</td>\n",
       "      <td>Normal</td>\n",
       "      <td>26</td>\n",
       "    </tr>\n",
       "    <tr>\n",
       "      <th>9514</th>\n",
       "      <td>Rhonda Allen</td>\n",
       "      <td>56</td>\n",
       "      <td>Female</td>\n",
       "      <td>B-</td>\n",
       "      <td>Diabetes</td>\n",
       "      <td>2019-05-14</td>\n",
       "      <td>Diane Houston</td>\n",
       "      <td>Johnson PLC</td>\n",
       "      <td>UnitedHealthcare</td>\n",
       "      <td>15054.431375</td>\n",
       "      <td>426</td>\n",
       "      <td>Emergency</td>\n",
       "      <td>2019-05-22</td>\n",
       "      <td>Lipitor</td>\n",
       "      <td>Inconclusive</td>\n",
       "      <td>8</td>\n",
       "    </tr>\n",
       "    <tr>\n",
       "      <th>9536</th>\n",
       "      <td>Charles Hernandez</td>\n",
       "      <td>78</td>\n",
       "      <td>Male</td>\n",
       "      <td>O-</td>\n",
       "      <td>Hypertension</td>\n",
       "      <td>2019-12-04</td>\n",
       "      <td>Cynthia Malone</td>\n",
       "      <td>Thomas Group</td>\n",
       "      <td>Blue Cross</td>\n",
       "      <td>49409.780541</td>\n",
       "      <td>163</td>\n",
       "      <td>Emergency</td>\n",
       "      <td>2019-12-16</td>\n",
       "      <td>Penicillin</td>\n",
       "      <td>Inconclusive</td>\n",
       "      <td>12</td>\n",
       "    </tr>\n",
       "    <tr>\n",
       "      <th>9659</th>\n",
       "      <td>Alison Cline</td>\n",
       "      <td>55</td>\n",
       "      <td>Female</td>\n",
       "      <td>AB+</td>\n",
       "      <td>Hypertension</td>\n",
       "      <td>2019-04-11</td>\n",
       "      <td>Jacob Griffin</td>\n",
       "      <td>Smith PLC</td>\n",
       "      <td>Medicare</td>\n",
       "      <td>46941.697956</td>\n",
       "      <td>432</td>\n",
       "      <td>Emergency</td>\n",
       "      <td>2019-04-26</td>\n",
       "      <td>Lipitor</td>\n",
       "      <td>Inconclusive</td>\n",
       "      <td>15</td>\n",
       "    </tr>\n",
       "    <tr>\n",
       "      <th>9763</th>\n",
       "      <td>Jasmine Brooks</td>\n",
       "      <td>27</td>\n",
       "      <td>Male</td>\n",
       "      <td>AB+</td>\n",
       "      <td>Arthritis</td>\n",
       "      <td>2022-04-20</td>\n",
       "      <td>Michael Morrow</td>\n",
       "      <td>Smith PLC</td>\n",
       "      <td>Cigna</td>\n",
       "      <td>18469.360164</td>\n",
       "      <td>365</td>\n",
       "      <td>Emergency</td>\n",
       "      <td>2022-05-01</td>\n",
       "      <td>Ibuprofen</td>\n",
       "      <td>Normal</td>\n",
       "      <td>11</td>\n",
       "    </tr>\n",
       "  </tbody>\n",
       "</table>\n",
       "<p>146 rows × 16 columns</p>\n",
       "</div>"
      ],
      "text/plain": [
       "                   Name  Age  Gender Blood Type Medical Condition  \\\n",
       "47    Jasmine Singleton   37    Male        AB-           Obesity   \n",
       "266        Jamie Kelley   48    Male         O-            Asthma   \n",
       "298       Cody Gonzales   30    Male         B-           Obesity   \n",
       "303   Cynthia Patterson   42  Female         B-            Cancer   \n",
       "318    Daniel Alexander   70    Male        AB-      Hypertension   \n",
       "...                 ...  ...     ...        ...               ...   \n",
       "9497          Glen Rowe   55    Male         A-            Cancer   \n",
       "9514       Rhonda Allen   56  Female         B-          Diabetes   \n",
       "9536  Charles Hernandez   78    Male         O-      Hypertension   \n",
       "9659       Alison Cline   55  Female        AB+      Hypertension   \n",
       "9763     Jasmine Brooks   27    Male        AB+         Arthritis   \n",
       "\n",
       "     Date of Admission            Doctor      Hospital Insurance Provider  \\\n",
       "47          2019-06-26      Larry Guzman  Thomas Group         Blue Cross   \n",
       "266         2022-07-10       Samuel Lowe  Williams LLC              Aetna   \n",
       "298         2020-03-06    Rachel Roberts   Smith Group         Blue Cross   \n",
       "303         2020-01-02  Dr. Sean Russell   Johnson Ltd           Medicare   \n",
       "318         2020-03-19       Jill Hughes     Smith Inc              Aetna   \n",
       "...                ...               ...           ...                ...   \n",
       "9497        2022-09-12      Ashley Gross   Smith Group         Blue Cross   \n",
       "9514        2019-05-14     Diane Houston   Johnson PLC   UnitedHealthcare   \n",
       "9536        2019-12-04    Cynthia Malone  Thomas Group         Blue Cross   \n",
       "9659        2019-04-11     Jacob Griffin     Smith PLC           Medicare   \n",
       "9763        2022-04-20    Michael Morrow     Smith PLC              Cigna   \n",
       "\n",
       "      Billing Amount  Room Number Admission Type Discharge Date  Medication  \\\n",
       "47      34132.623000          182      Emergency     2019-07-24   Ibuprofen   \n",
       "266     42621.449647          297         Urgent     2022-07-28  Penicillin   \n",
       "298     16592.012153          223      Emergency     2020-03-22  Penicillin   \n",
       "303     26419.324813          483      Emergency     2020-01-30   Ibuprofen   \n",
       "318     36496.775644          286       Elective     2020-04-05  Penicillin   \n",
       "...              ...          ...            ...            ...         ...   \n",
       "9497    12988.802893          471       Elective     2022-10-08   Ibuprofen   \n",
       "9514    15054.431375          426      Emergency     2019-05-22     Lipitor   \n",
       "9536    49409.780541          163      Emergency     2019-12-16  Penicillin   \n",
       "9659    46941.697956          432      Emergency     2019-04-26     Lipitor   \n",
       "9763    18469.360164          365      Emergency     2022-05-01   Ibuprofen   \n",
       "\n",
       "      Test Results  num_days  \n",
       "47          Normal        28  \n",
       "266   Inconclusive        18  \n",
       "298       Abnormal        16  \n",
       "303   Inconclusive        28  \n",
       "318         Normal        17  \n",
       "...            ...       ...  \n",
       "9497        Normal        26  \n",
       "9514  Inconclusive         8  \n",
       "9536  Inconclusive        12  \n",
       "9659  Inconclusive        15  \n",
       "9763        Normal        11  \n",
       "\n",
       "[146 rows x 16 columns]"
      ]
     },
     "execution_count": 253,
     "metadata": {},
     "output_type": "execute_result"
    }
   ],
   "source": [
    "Top_Hospital"
   ]
  },
  {
   "cell_type": "code",
   "execution_count": 254,
   "id": "a906510a",
   "metadata": {},
   "outputs": [
    {
     "data": {
      "text/html": [
       "<div>\n",
       "<style scoped>\n",
       "    .dataframe tbody tr th:only-of-type {\n",
       "        vertical-align: middle;\n",
       "    }\n",
       "\n",
       "    .dataframe tbody tr th {\n",
       "        vertical-align: top;\n",
       "    }\n",
       "\n",
       "    .dataframe thead th {\n",
       "        text-align: right;\n",
       "    }\n",
       "</style>\n",
       "<table border=\"1\" class=\"dataframe\">\n",
       "  <thead>\n",
       "    <tr style=\"text-align: right;\">\n",
       "      <th></th>\n",
       "      <th>Hospital</th>\n",
       "      <th>num_days</th>\n",
       "    </tr>\n",
       "  </thead>\n",
       "  <tbody>\n",
       "    <tr>\n",
       "      <th>3896</th>\n",
       "      <td>Johnson Ltd</td>\n",
       "      <td>1</td>\n",
       "    </tr>\n",
       "    <tr>\n",
       "      <th>2597</th>\n",
       "      <td>Smith Inc</td>\n",
       "      <td>1</td>\n",
       "    </tr>\n",
       "    <tr>\n",
       "      <th>5157</th>\n",
       "      <td>Smith PLC</td>\n",
       "      <td>1</td>\n",
       "    </tr>\n",
       "    <tr>\n",
       "      <th>3012</th>\n",
       "      <td>Johnson Ltd</td>\n",
       "      <td>1</td>\n",
       "    </tr>\n",
       "    <tr>\n",
       "      <th>1560</th>\n",
       "      <td>Williams LLC</td>\n",
       "      <td>2</td>\n",
       "    </tr>\n",
       "    <tr>\n",
       "      <th>...</th>\n",
       "      <td>...</td>\n",
       "      <td>...</td>\n",
       "    </tr>\n",
       "    <tr>\n",
       "      <th>1563</th>\n",
       "      <td>Smith PLC</td>\n",
       "      <td>29</td>\n",
       "    </tr>\n",
       "    <tr>\n",
       "      <th>6987</th>\n",
       "      <td>Thomas Group</td>\n",
       "      <td>29</td>\n",
       "    </tr>\n",
       "    <tr>\n",
       "      <th>7854</th>\n",
       "      <td>Smith PLC</td>\n",
       "      <td>30</td>\n",
       "    </tr>\n",
       "    <tr>\n",
       "      <th>4050</th>\n",
       "      <td>Smith and Sons</td>\n",
       "      <td>30</td>\n",
       "    </tr>\n",
       "    <tr>\n",
       "      <th>8996</th>\n",
       "      <td>Smith Inc</td>\n",
       "      <td>30</td>\n",
       "    </tr>\n",
       "  </tbody>\n",
       "</table>\n",
       "<p>146 rows × 2 columns</p>\n",
       "</div>"
      ],
      "text/plain": [
       "            Hospital  num_days\n",
       "3896     Johnson Ltd         1\n",
       "2597       Smith Inc         1\n",
       "5157       Smith PLC         1\n",
       "3012     Johnson Ltd         1\n",
       "1560    Williams LLC         2\n",
       "...              ...       ...\n",
       "1563       Smith PLC        29\n",
       "6987    Thomas Group        29\n",
       "7854       Smith PLC        30\n",
       "4050  Smith and Sons        30\n",
       "8996       Smith Inc        30\n",
       "\n",
       "[146 rows x 2 columns]"
      ]
     },
     "execution_count": 254,
     "metadata": {},
     "output_type": "execute_result"
    }
   ],
   "source": [
    "top_days = Top_Hospital.sort_values('num_days')\n",
    "top_days[['Hospital','num_days']]"
   ]
  },
  {
   "cell_type": "markdown",
   "id": "fa5c0d32",
   "metadata": {},
   "source": [
    "### 6. What is the age distribution in hospitals?"
   ]
  },
  {
   "cell_type": "code",
   "execution_count": 229,
   "id": "2136f146",
   "metadata": {},
   "outputs": [
    {
     "data": {
      "image/png": "[encoded data removed]",
      "text/plain": [
       "<Figure size 500x500 with 1 Axes>"
      ]
     },
     "metadata": {},
     "output_type": "display_data"
    }
   ],
   "source": [
    "import seaborn as sb\n",
    "sb.displot(Health['Age'], kde='True', bins='auto')\n",
    "plt.show()"
   ]
  },
  {
   "cell_type": "markdown",
   "id": "427008a2",
   "metadata": {},
   "source": [
    "From the histogram, we can see patients aged around 20 and over 80 have highest count."
   ]
  },
  {
   "cell_type": "markdown",
   "id": "a3349be8",
   "metadata": {},
   "source": [
    "### 7. How does the distribution of illnesses look like?  "
   ]
  },
  {
   "cell_type": "code",
   "execution_count": 227,
   "id": "4ec03591",
   "metadata": {},
   "outputs": [
    {
     "data": {
      "image/png": "[encoded data removed]",
      "text/plain": [
       "<Figure size 640x480 with 1 Axes>"
      ]
     },
     "metadata": {},
     "output_type": "display_data"
    }
   ],
   "source": [
    "sb.countplot(x='Medical Condition',data=Health)\n",
    "plt.show()"
   ]
  },
  {
   "cell_type": "markdown",
   "id": "7ac2e198",
   "metadata": {},
   "source": [
    "Although medical condition counts are pretty similar, asthma and cancer occupy the highest two places."
   ]
  },
  {
   "cell_type": "markdown",
   "id": "06563c72",
   "metadata": {},
   "source": [
    "### 8. What was the most prescribed medication?"
   ]
  },
  {
   "cell_type": "code",
   "execution_count": 228,
   "id": "523dffab",
   "metadata": {},
   "outputs": [
    {
     "data": {
      "image/png": "[encoded data removed]",
      "text/plain": [
       "<Figure size 640x480 with 1 Axes>"
      ]
     },
     "metadata": {},
     "output_type": "display_data"
    }
   ],
   "source": [
    "sb.countplot(x='Medication', data=Health)\n",
    "plt.show()"
   ]
  },
  {
   "cell_type": "code",
   "execution_count": null,
   "id": "68c81f6e",
   "metadata": {},
   "outputs": [],
   "source": []
  },
  {
   "cell_type": "markdown",
   "id": "4ae8eb0f",
   "metadata": {},
   "source": [
    "##  <a id=\"five\">Model Predictions and Accuracy Evaluation</a>"
   ]
  },
  {
   "cell_type": "markdown",
   "id": "b719dd73",
   "metadata": {},
   "source": [
    "### Feature extraction\n"
   ]
  },
  {
   "cell_type": "code",
   "execution_count": 255,
   "id": "bbe606ad",
   "metadata": {},
   "outputs": [],
   "source": [
    "#creatin a copy of our cleaned data to work on\n",
    "df = Health.copy()"
   ]
  },
  {
   "cell_type": "code",
   "execution_count": 256,
   "id": "6769e9ba",
   "metadata": {},
   "outputs": [
    {
     "name": "stdout",
     "output_type": "stream",
     "text": [
      "<class 'pandas.core.frame.DataFrame'>\n",
      "RangeIndex: 10000 entries, 0 to 9999\n",
      "Data columns (total 16 columns):\n",
      " #   Column              Non-Null Count  Dtype         \n",
      "---  ------              --------------  -----         \n",
      " 0   Name                10000 non-null  object        \n",
      " 1   Age                 10000 non-null  int64         \n",
      " 2   Gender              10000 non-null  object        \n",
      " 3   Blood Type          10000 non-null  object        \n",
      " 4   Medical Condition   10000 non-null  object        \n",
      " 5   Date of Admission   10000 non-null  datetime64[ns]\n",
      " 6   Doctor              10000 non-null  object        \n",
      " 7   Hospital            10000 non-null  object        \n",
      " 8   Insurance Provider  10000 non-null  object        \n",
      " 9   Billing Amount      10000 non-null  float64       \n",
      " 10  Room Number         10000 non-null  int64         \n",
      " 11  Admission Type      10000 non-null  object        \n",
      " 12  Discharge Date      10000 non-null  datetime64[ns]\n",
      " 13  Medication          10000 non-null  object        \n",
      " 14  Test Results        10000 non-null  object        \n",
      " 15  num_days            10000 non-null  int64         \n",
      "dtypes: datetime64[ns](2), float64(1), int64(3), object(10)\n",
      "memory usage: 1.2+ MB\n"
     ]
    }
   ],
   "source": [
    "#verifyin if copyin was successful\n",
    "df.info()"
   ]
  },
  {
   "cell_type": "code",
   "execution_count": 257,
   "id": "809c5036",
   "metadata": {},
   "outputs": [],
   "source": [
    "#droppin columns unnecessary for our prediction\n",
    "df.drop('Date of Admission', axis=1, inplace=True)\n",
    "df.drop('Discharge Date', axis=1, inplace=True)\n",
    "df.drop('Doctor', axis=1, inplace=True)\n",
    "df.drop('Hospital', axis=1, inplace=True)\n",
    "df.drop('Room Number', axis=1, inplace=True)\n",
    "df.drop('Name', axis=1, inplace=True)"
   ]
  },
  {
   "cell_type": "code",
   "execution_count": 258,
   "id": "dd5ad9e9",
   "metadata": {},
   "outputs": [],
   "source": [
    "df.drop('Insurance Provider', axis=1, inplace=True)"
   ]
  },
  {
   "cell_type": "code",
   "execution_count": 259,
   "id": "84e0e3e6",
   "metadata": {},
   "outputs": [
    {
     "name": "stdout",
     "output_type": "stream",
     "text": [
      "<class 'pandas.core.frame.DataFrame'>\n",
      "RangeIndex: 10000 entries, 0 to 9999\n",
      "Data columns (total 9 columns):\n",
      " #   Column             Non-Null Count  Dtype  \n",
      "---  ------             --------------  -----  \n",
      " 0   Age                10000 non-null  int64  \n",
      " 1   Gender             10000 non-null  object \n",
      " 2   Blood Type         10000 non-null  object \n",
      " 3   Medical Condition  10000 non-null  object \n",
      " 4   Billing Amount     10000 non-null  float64\n",
      " 5   Admission Type     10000 non-null  object \n",
      " 6   Medication         10000 non-null  object \n",
      " 7   Test Results       10000 non-null  object \n",
      " 8   num_days           10000 non-null  int64  \n",
      "dtypes: float64(1), int64(2), object(6)\n",
      "memory usage: 703.2+ KB\n"
     ]
    }
   ],
   "source": [
    "#verifyin if deletion was successful\n",
    "df.info()"
   ]
  },
  {
   "cell_type": "markdown",
   "id": "bd0b4ff5",
   "metadata": {},
   "source": [
    "### Label Encoding"
   ]
  },
  {
   "cell_type": "code",
   "execution_count": 260,
   "id": "d89f931f",
   "metadata": {},
   "outputs": [],
   "source": [
    "#encoding text fields\n",
    "\n",
    "from sklearn.preprocessing import LabelEncoder\n",
    "lc=LabelEncoder()\n",
    "cols=['Gender', 'Blood Type', 'Medical Condition','Admission Type', 'Medication','Test Results']\n",
    "for i in cols:\n",
    "  df[i]=lc.fit_transform(df[i])"
   ]
  },
  {
   "cell_type": "code",
   "execution_count": 261,
   "id": "9bbc14b4",
   "metadata": {},
   "outputs": [
    {
     "data": {
      "text/html": [
       "<div>\n",
       "<style scoped>\n",
       "    .dataframe tbody tr th:only-of-type {\n",
       "        vertical-align: middle;\n",
       "    }\n",
       "\n",
       "    .dataframe tbody tr th {\n",
       "        vertical-align: top;\n",
       "    }\n",
       "\n",
       "    .dataframe thead th {\n",
       "        text-align: right;\n",
       "    }\n",
       "</style>\n",
       "<table border=\"1\" class=\"dataframe\">\n",
       "  <thead>\n",
       "    <tr style=\"text-align: right;\">\n",
       "      <th></th>\n",
       "      <th>Age</th>\n",
       "      <th>Gender</th>\n",
       "      <th>Blood Type</th>\n",
       "      <th>Medical Condition</th>\n",
       "      <th>Billing Amount</th>\n",
       "      <th>Admission Type</th>\n",
       "      <th>Medication</th>\n",
       "      <th>Test Results</th>\n",
       "      <th>num_days</th>\n",
       "    </tr>\n",
       "  </thead>\n",
       "  <tbody>\n",
       "    <tr>\n",
       "      <th>0</th>\n",
       "      <td>81</td>\n",
       "      <td>0</td>\n",
       "      <td>7</td>\n",
       "      <td>3</td>\n",
       "      <td>37490.983364</td>\n",
       "      <td>0</td>\n",
       "      <td>0</td>\n",
       "      <td>1</td>\n",
       "      <td>14</td>\n",
       "    </tr>\n",
       "    <tr>\n",
       "      <th>1</th>\n",
       "      <td>35</td>\n",
       "      <td>1</td>\n",
       "      <td>6</td>\n",
       "      <td>1</td>\n",
       "      <td>47304.064845</td>\n",
       "      <td>1</td>\n",
       "      <td>2</td>\n",
       "      <td>2</td>\n",
       "      <td>14</td>\n",
       "    </tr>\n",
       "    <tr>\n",
       "      <th>2</th>\n",
       "      <td>61</td>\n",
       "      <td>1</td>\n",
       "      <td>5</td>\n",
       "      <td>5</td>\n",
       "      <td>36874.896997</td>\n",
       "      <td>1</td>\n",
       "      <td>2</td>\n",
       "      <td>2</td>\n",
       "      <td>30</td>\n",
       "    </tr>\n",
       "    <tr>\n",
       "      <th>3</th>\n",
       "      <td>49</td>\n",
       "      <td>1</td>\n",
       "      <td>5</td>\n",
       "      <td>1</td>\n",
       "      <td>23303.322092</td>\n",
       "      <td>2</td>\n",
       "      <td>4</td>\n",
       "      <td>0</td>\n",
       "      <td>1</td>\n",
       "    </tr>\n",
       "    <tr>\n",
       "      <th>4</th>\n",
       "      <td>51</td>\n",
       "      <td>1</td>\n",
       "      <td>7</td>\n",
       "      <td>0</td>\n",
       "      <td>18086.344184</td>\n",
       "      <td>2</td>\n",
       "      <td>3</td>\n",
       "      <td>2</td>\n",
       "      <td>24</td>\n",
       "    </tr>\n",
       "    <tr>\n",
       "      <th>...</th>\n",
       "      <td>...</td>\n",
       "      <td>...</td>\n",
       "      <td>...</td>\n",
       "      <td>...</td>\n",
       "      <td>...</td>\n",
       "      <td>...</td>\n",
       "      <td>...</td>\n",
       "      <td>...</td>\n",
       "      <td>...</td>\n",
       "    </tr>\n",
       "    <tr>\n",
       "      <th>9995</th>\n",
       "      <td>83</td>\n",
       "      <td>1</td>\n",
       "      <td>0</td>\n",
       "      <td>5</td>\n",
       "      <td>39606.840083</td>\n",
       "      <td>0</td>\n",
       "      <td>1</td>\n",
       "      <td>0</td>\n",
       "      <td>4</td>\n",
       "    </tr>\n",
       "    <tr>\n",
       "      <th>9996</th>\n",
       "      <td>47</td>\n",
       "      <td>0</td>\n",
       "      <td>2</td>\n",
       "      <td>0</td>\n",
       "      <td>5995.717488</td>\n",
       "      <td>1</td>\n",
       "      <td>1</td>\n",
       "      <td>2</td>\n",
       "      <td>23</td>\n",
       "    </tr>\n",
       "    <tr>\n",
       "      <th>9997</th>\n",
       "      <td>54</td>\n",
       "      <td>1</td>\n",
       "      <td>5</td>\n",
       "      <td>0</td>\n",
       "      <td>49559.202905</td>\n",
       "      <td>0</td>\n",
       "      <td>1</td>\n",
       "      <td>2</td>\n",
       "      <td>14</td>\n",
       "    </tr>\n",
       "    <tr>\n",
       "      <th>9998</th>\n",
       "      <td>84</td>\n",
       "      <td>1</td>\n",
       "      <td>0</td>\n",
       "      <td>0</td>\n",
       "      <td>25236.344761</td>\n",
       "      <td>2</td>\n",
       "      <td>4</td>\n",
       "      <td>2</td>\n",
       "      <td>20</td>\n",
       "    </tr>\n",
       "    <tr>\n",
       "      <th>9999</th>\n",
       "      <td>20</td>\n",
       "      <td>1</td>\n",
       "      <td>5</td>\n",
       "      <td>0</td>\n",
       "      <td>37223.965865</td>\n",
       "      <td>1</td>\n",
       "      <td>4</td>\n",
       "      <td>0</td>\n",
       "      <td>24</td>\n",
       "    </tr>\n",
       "  </tbody>\n",
       "</table>\n",
       "<p>10000 rows × 9 columns</p>\n",
       "</div>"
      ],
      "text/plain": [
       "      Age  Gender  Blood Type  Medical Condition  Billing Amount  \\\n",
       "0      81       0           7                  3    37490.983364   \n",
       "1      35       1           6                  1    47304.064845   \n",
       "2      61       1           5                  5    36874.896997   \n",
       "3      49       1           5                  1    23303.322092   \n",
       "4      51       1           7                  0    18086.344184   \n",
       "...   ...     ...         ...                ...             ...   \n",
       "9995   83       1           0                  5    39606.840083   \n",
       "9996   47       0           2                  0     5995.717488   \n",
       "9997   54       1           5                  0    49559.202905   \n",
       "9998   84       1           0                  0    25236.344761   \n",
       "9999   20       1           5                  0    37223.965865   \n",
       "\n",
       "      Admission Type  Medication  Test Results  num_days  \n",
       "0                  0           0             1        14  \n",
       "1                  1           2             2        14  \n",
       "2                  1           2             2        30  \n",
       "3                  2           4             0         1  \n",
       "4                  2           3             2        24  \n",
       "...              ...         ...           ...       ...  \n",
       "9995               0           1             0         4  \n",
       "9996               1           1             2        23  \n",
       "9997               0           1             2        14  \n",
       "9998               2           4             2        20  \n",
       "9999               1           4             0        24  \n",
       "\n",
       "[10000 rows x 9 columns]"
      ]
     },
     "execution_count": 261,
     "metadata": {},
     "output_type": "execute_result"
    }
   ],
   "source": [
    "df"
   ]
  },
  {
   "cell_type": "code",
   "execution_count": 262,
   "id": "da7e8936",
   "metadata": {},
   "outputs": [],
   "source": [
    "#separating data into features(x) and target (y)\n",
    "\n",
    "X=df.drop(['Test Results'],axis=1)\n",
    "y=df['Test Results']\n",
    "\n",
    "#seperating our data into test and train\n",
    "\n",
    "from sklearn.model_selection import train_test_split\n",
    "from sklearn.metrics import accuracy_score\n",
    "from sklearn.preprocessing import scale\n",
    "\n",
    "#model importation\n",
    "from sklearn import neighbors, metrics\n",
    "from sklearn import svm\n",
    "from sklearn import linear_model\n",
    "from sklearn.cluster import KMeans\n",
    "from sklearn.ensemble import RandomForestClassifier\n",
    "from sklearn.tree import DecisionTreeClassifier\n",
    "from sklearn.model_selection import cross_val_score\n",
    "#from xgboost import XGBClassifier\n",
    "from sklearn.metrics import confusion_matrix,classification_report,accuracy_score\n",
    "\n",
    "\n",
    "X_train, X_test, y_train, y_test = train_test_split(X, y, test_size = 0.2, random_state = 26)\n"
   ]
  },
  {
   "cell_type": "markdown",
   "id": "0282564f",
   "metadata": {},
   "source": [
    "### XGB Classifier"
   ]
  },
  {
   "cell_type": "markdown",
   "id": "739ee306",
   "metadata": {},
   "source": [
    "model1= XGBClassifier()\n",
    "model1.fit(X_train, y_train)"
   ]
  },
  {
   "cell_type": "markdown",
   "id": "6e1764dc",
   "metadata": {},
   "source": [
    "y_pred = model1.predict(X_test)\n",
    "print(\"-------------------------------------------------------------------------\")\n",
    "print(f\"The accuraccy score is: ------>>  {accuracy_score(y_test,y_pred)}\")\n",
    "print(\"-------------------------------------------------------------------------\")\n",
    "print(f\"The Confusion Matrix is: ------>> \\n{confusion_matrix(y_test,y_pred)}\")\n",
    "print(\"-------------------------------------------------------------------------\")\n",
    "print(f\"The Classification Report is: ---->> {classification_report(y_test,y_pred)}\")"
   ]
  },
  {
   "cell_type": "markdown",
   "id": "d52badc1",
   "metadata": {},
   "source": [
    "xgb_classifier = xgb.XGBClassifier()\n",
    "xgb_accuracy = cross_val_score(xgb_classifier, X_test, y_test, cv=8).mean()\n",
    "print(\"cross validation score: \", xgb_accuracy)"
   ]
  },
  {
   "cell_type": "markdown",
   "id": "8036f0a3",
   "metadata": {},
   "source": [
    "### Support Vector Machine"
   ]
  },
  {
   "cell_type": "code",
   "execution_count": 263,
   "id": "45438a42",
   "metadata": {},
   "outputs": [
    {
     "name": "stdout",
     "output_type": "stream",
     "text": [
      "cross validation score:  0.3485\n"
     ]
    }
   ],
   "source": [
    "svm_classifier = svm.SVC()\n",
    "svm_classifier.fit(X_train, y_train)\n",
    "from sklearn.model_selection import cross_val_score\n",
    "svm_accuracy = cross_val_score(svm_classifier, X_test, y_test, cv=8).mean()\n",
    "\n",
    "print(\"cross validation score: \", svm_accuracy)"
   ]
  },
  {
   "cell_type": "code",
   "execution_count": 264,
   "id": "62924957",
   "metadata": {},
   "outputs": [
    {
     "name": "stdout",
     "output_type": "stream",
     "text": [
      "-------------------------------------------------------------------------\n",
      "The accuraccy score is: ------>>  0.3435\n",
      "-------------------------------------------------------------------------\n",
      "The Confusion Matrix is: ------>> \n",
      "[[687   0   0]\n",
      " [682   0   0]\n",
      " [631   0   0]]\n",
      "-------------------------------------------------------------------------\n"
     ]
    }
   ],
   "source": [
    "y_pred_svm= svm_classifier.predict(X_test)\n",
    "print(\"-------------------------------------------------------------------------\")\n",
    "print(f\"The accuraccy score is: ------>>  {accuracy_score(y_test,y_pred)}\")\n",
    "print(\"-------------------------------------------------------------------------\")\n",
    "print(f\"The Confusion Matrix is: ------>> \\n{confusion_matrix(y_test,y_pred)}\")\n",
    "print(\"-------------------------------------------------------------------------\")\n",
    "#print(f\"The Classification Report is: ---->> {classification_report(y_test,y_pred)}\")"
   ]
  },
  {
   "cell_type": "markdown",
   "id": "e25fde6f",
   "metadata": {},
   "source": [
    "### Logistic Regression"
   ]
  },
  {
   "cell_type": "code",
   "execution_count": 221,
   "id": "d2b7aa36",
   "metadata": {},
   "outputs": [
    {
     "data": {
      "text/plain": [
       "LinearRegression()"
      ]
     },
     "execution_count": 221,
     "metadata": {},
     "output_type": "execute_result"
    }
   ],
   "source": [
    "model3 = linear_model.LinearRegression()\n",
    "model3.fit(X_train,y_train)"
   ]
  },
  {
   "cell_type": "code",
   "execution_count": null,
   "id": "f1acc54f",
   "metadata": {},
   "outputs": [],
   "source": [
    "y_pred = model3.predict(X_test)\n",
    "print(\"-------------------------------------------------------------------------\")\n",
    "print(f\"The accuraccy score is: ------>>  {accuracy_score(y_test,y_pred)}\")\n",
    "print(\"-------------------------------------------------------------------------\")\n",
    "print(f\"The Confusion Matrix is: ------>> \\n{confusion_matrix(y_test,y_pred)}\")\n",
    "print(\"-------------------------------------------------------------------------\")\n",
    "print(f\"The Classification Report is: ---->> {classification_report(y_test,y_pred)}\")"
   ]
  },
  {
   "cell_type": "markdown",
   "id": "3c5a3234",
   "metadata": {},
   "source": [
    "### Random Forest"
   ]
  },
  {
   "cell_type": "code",
   "execution_count": 265,
   "id": "7f8b48d4",
   "metadata": {},
   "outputs": [
    {
     "data": {
      "text/plain": [
       "RandomForestClassifier()"
      ]
     },
     "execution_count": 265,
     "metadata": {},
     "output_type": "execute_result"
    }
   ],
   "source": [
    "model4 = RandomForestClassifier()\n",
    "model4.fit(X_train,y_train)"
   ]
  },
  {
   "cell_type": "code",
   "execution_count": 266,
   "id": "3841d0d6",
   "metadata": {},
   "outputs": [
    {
     "name": "stdout",
     "output_type": "stream",
     "text": [
      "-------------------------------------------------------------------------\n",
      "The accuraccy score is: ------>>  0.3275\n",
      "-------------------------------------------------------------------------\n",
      "The Confusion Matrix is: ------>> \n",
      "[[277 200 210]\n",
      " [291 187 204]\n",
      " [247 193 191]]\n",
      "-------------------------------------------------------------------------\n",
      "The Classification Report is: ---->>               precision    recall  f1-score   support\n",
      "\n",
      "           0       0.34      0.40      0.37       687\n",
      "           1       0.32      0.27      0.30       682\n",
      "           2       0.32      0.30      0.31       631\n",
      "\n",
      "    accuracy                           0.33      2000\n",
      "   macro avg       0.33      0.33      0.32      2000\n",
      "weighted avg       0.33      0.33      0.33      2000\n",
      "\n"
     ]
    }
   ],
   "source": [
    "y_pred_RF = model4.predict(X_test)\n",
    "print(\"-------------------------------------------------------------------------\")\n",
    "print(f\"The accuraccy score is: ------>>  {accuracy_score(y_test,y_pred)}\")\n",
    "print(\"-------------------------------------------------------------------------\")\n",
    "print(f\"The Confusion Matrix is: ------>> \\n{confusion_matrix(y_test,y_pred)}\")\n",
    "print(\"-------------------------------------------------------------------------\")\n",
    "print(f\"The Classification Report is: ---->> {classification_report(y_test,y_pred)}\")"
   ]
  },
  {
   "cell_type": "markdown",
   "id": "f3ff42bb",
   "metadata": {},
   "source": [
    "### Decision Tree"
   ]
  },
  {
   "cell_type": "code",
   "execution_count": 267,
   "id": "8073b8b3",
   "metadata": {},
   "outputs": [
    {
     "data": {
      "text/plain": [
       "DecisionTreeClassifier()"
      ]
     },
     "execution_count": 267,
     "metadata": {},
     "output_type": "execute_result"
    }
   ],
   "source": [
    "model5 = DecisionTreeClassifier()\n",
    "model5.fit(X_train,y_train)"
   ]
  },
  {
   "cell_type": "code",
   "execution_count": 268,
   "id": "d8fcc25b",
   "metadata": {
    "scrolled": true
   },
   "outputs": [
    {
     "name": "stdout",
     "output_type": "stream",
     "text": [
      "-------------------------------------------------------------------------\n",
      "The accuraccy score is: ------>>  0.3245\n",
      "-------------------------------------------------------------------------\n",
      "The Confusion Matrix is: ------>> \n",
      "[[233 225 229]\n",
      " [230 213 239]\n",
      " [223 205 203]]\n",
      "-------------------------------------------------------------------------\n",
      "The Classification Report is: ---->>               precision    recall  f1-score   support\n",
      "\n",
      "           0       0.34      0.34      0.34       687\n",
      "           1       0.33      0.31      0.32       682\n",
      "           2       0.30      0.32      0.31       631\n",
      "\n",
      "    accuracy                           0.32      2000\n",
      "   macro avg       0.32      0.32      0.32      2000\n",
      "weighted avg       0.33      0.32      0.32      2000\n",
      "\n"
     ]
    }
   ],
   "source": [
    "y_pred_DT = model5.predict(X_test)\n",
    "print(\"-------------------------------------------------------------------------\")\n",
    "print(f\"The accuraccy score is: ------>>  {accuracy_score(y_test,y_pred)}\")\n",
    "print(\"-------------------------------------------------------------------------\")\n",
    "print(f\"The Confusion Matrix is: ------>> \\n{confusion_matrix(y_test,y_pred)}\")\n",
    "print(\"-------------------------------------------------------------------------\")\n",
    "print(f\"The Classification Report is: ---->> {classification_report(y_test,y_pred)}\")"
   ]
  },
  {
   "cell_type": "markdown",
   "id": "60d0cf6f",
   "metadata": {},
   "source": [
    "### Naive Bayes"
   ]
  },
  {
   "cell_type": "code",
   "execution_count": 269,
   "id": "1609d834",
   "metadata": {},
   "outputs": [],
   "source": [
    "from sklearn.naive_bayes import GaussianNB\n",
    "\n",
    "model6 = GaussianNB()\n",
    "\n",
    "model6.fit(X_train, y_train);"
   ]
  },
  {
   "cell_type": "code",
   "execution_count": 270,
   "id": "fc9887c4",
   "metadata": {},
   "outputs": [
    {
     "name": "stdout",
     "output_type": "stream",
     "text": [
      "-------------------------------------------------------------------------\n",
      "The accuraccy score is: ------>>  0.3245\n",
      "-------------------------------------------------------------------------\n",
      "The Confusion Matrix is: ------>> \n",
      "[[233 225 229]\n",
      " [230 213 239]\n",
      " [223 205 203]]\n",
      "-------------------------------------------------------------------------\n",
      "The Classification Report is: ---->>               precision    recall  f1-score   support\n",
      "\n",
      "           0       0.34      0.34      0.34       687\n",
      "           1       0.33      0.31      0.32       682\n",
      "           2       0.30      0.32      0.31       631\n",
      "\n",
      "    accuracy                           0.32      2000\n",
      "   macro avg       0.32      0.32      0.32      2000\n",
      "weighted avg       0.33      0.32      0.32      2000\n",
      "\n"
     ]
    }
   ],
   "source": [
    "y_pred_NB = model5.predict(X_test)\n",
    "print(\"-------------------------------------------------------------------------\")\n",
    "print(f\"The accuraccy score is: ------>>  {accuracy_score(y_test,y_pred)}\")\n",
    "print(\"-------------------------------------------------------------------------\")\n",
    "print(f\"The Confusion Matrix is: ------>> \\n{confusion_matrix(y_test,y_pred)}\")\n",
    "print(\"-------------------------------------------------------------------------\")\n",
    "print(f\"The Classification Report is: ---->> {classification_report(y_test,y_pred)}\")"
   ]
  },
  {
   "cell_type": "markdown",
   "id": "8daef168",
   "metadata": {},
   "source": [
    "#### Summarily, the following models produced the following accuracies :\n",
    "\n",
    "- DecisionTree - 0.3175\n",
    "\n",
    "- Logistic Regression - Classification metrics can't handle a mix of multiclass and continuous targets\n",
    "\n",
    "- Random Forest - 0.326\n",
    "\n",
    "- Support vector Machine - 0.3435/0.3485\n",
    "\n",
    "- Naive Bayes - 0.3245\n",
    "\n",
    "- XGBClassifier - Still to be tested"
   ]
  },
  {
   "cell_type": "markdown",
   "id": "85abe2e0",
   "metadata": {},
   "source": [
    "Therefore, for our dataset, the most accurate model with respect to this study is the Support Vector Machine model "
   ]
  },
  {
   "cell_type": "code",
   "execution_count": 275,
   "id": "ed11f160",
   "metadata": {},
   "outputs": [],
   "source": [
    "y_pred_svm= svm_classifier.predict(X_test)"
   ]
  },
  {
   "cell_type": "code",
   "execution_count": 276,
   "id": "b8ab2d77",
   "metadata": {},
   "outputs": [
    {
     "data": {
      "text/plain": [
       "array([0, 0, 0, ..., 0, 0, 0])"
      ]
     },
     "execution_count": 276,
     "metadata": {},
     "output_type": "execute_result"
    }
   ],
   "source": [
    "y_pred_svm"
   ]
  },
  {
   "cell_type": "code",
   "execution_count": null,
   "id": "41959096",
   "metadata": {},
   "outputs": [],
   "source": []
  }
 ],
 "metadata": {
  "kernelspec": {
   "display_name": "Python 3 (ipykernel)",
   "language": "python",
   "name": "python3"
  },
  "language_info": {
   "codemirror_mode": {
    "name": "ipython",
    "version": 3
   },
   "file_extension": ".py",
   "mimetype": "text/x-python",
   "name": "python",
   "nbconvert_exporter": "python",
   "pygments_lexer": "ipython3",
   "version": "3.9.13"
  }
 },
 "nbformat": 4,
 "nbformat_minor": 5
}
